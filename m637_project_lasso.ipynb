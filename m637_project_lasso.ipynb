{
  "nbformat": 4,
  "nbformat_minor": 0,
  "metadata": {
    "colab": {
      "provenance": [],
      "include_colab_link": true
    },
    "kernelspec": {
      "name": "python3",
      "display_name": "Python 3"
    },
    "language_info": {
      "name": "python"
    }
  },
  "cells": [
    {
      "cell_type": "markdown",
      "metadata": {
        "id": "view-in-github",
        "colab_type": "text"
      },
      "source": [
        "<a href=\"https://colab.research.google.com/github/aninaredla/ML_Models_Unbalanced_Data/blob/main/m637_project_lasso.ipynb\" target=\"_parent\"><img src=\"https://colab.research.google.com/assets/colab-badge.svg\" alt=\"Open In Colab\"/></a>"
      ]
    },
    {
      "cell_type": "code",
      "source": [
        "from google.colab import files\n",
        "uploaded = files.upload()"
      ],
      "metadata": {
        "colab": {
          "base_uri": "https://localhost:8080/",
          "height": 73
        },
        "id": "-UYepkBr2Y7f",
        "outputId": "46f78b20-9f69-4cc5-f768-feb759535562"
      },
      "execution_count": null,
      "outputs": [
        {
          "output_type": "display_data",
          "data": {
            "text/plain": [
              "<IPython.core.display.HTML object>"
            ],
            "text/html": [
              "\n",
              "     <input type=\"file\" id=\"files-02bc4735-5ea4-4bbb-8a3b-7bbacb27fa82\" name=\"files[]\" multiple disabled\n",
              "        style=\"border:none\" />\n",
              "     <output id=\"result-02bc4735-5ea4-4bbb-8a3b-7bbacb27fa82\">\n",
              "      Upload widget is only available when the cell has been executed in the\n",
              "      current browser session. Please rerun this cell to enable.\n",
              "      </output>\n",
              "      <script>// Copyright 2017 Google LLC\n",
              "//\n",
              "// Licensed under the Apache License, Version 2.0 (the \"License\");\n",
              "// you may not use this file except in compliance with the License.\n",
              "// You may obtain a copy of the License at\n",
              "//\n",
              "//      http://www.apache.org/licenses/LICENSE-2.0\n",
              "//\n",
              "// Unless required by applicable law or agreed to in writing, software\n",
              "// distributed under the License is distributed on an \"AS IS\" BASIS,\n",
              "// WITHOUT WARRANTIES OR CONDITIONS OF ANY KIND, either express or implied.\n",
              "// See the License for the specific language governing permissions and\n",
              "// limitations under the License.\n",
              "\n",
              "/**\n",
              " * @fileoverview Helpers for google.colab Python module.\n",
              " */\n",
              "(function(scope) {\n",
              "function span(text, styleAttributes = {}) {\n",
              "  const element = document.createElement('span');\n",
              "  element.textContent = text;\n",
              "  for (const key of Object.keys(styleAttributes)) {\n",
              "    element.style[key] = styleAttributes[key];\n",
              "  }\n",
              "  return element;\n",
              "}\n",
              "\n",
              "// Max number of bytes which will be uploaded at a time.\n",
              "const MAX_PAYLOAD_SIZE = 100 * 1024;\n",
              "\n",
              "function _uploadFiles(inputId, outputId) {\n",
              "  const steps = uploadFilesStep(inputId, outputId);\n",
              "  const outputElement = document.getElementById(outputId);\n",
              "  // Cache steps on the outputElement to make it available for the next call\n",
              "  // to uploadFilesContinue from Python.\n",
              "  outputElement.steps = steps;\n",
              "\n",
              "  return _uploadFilesContinue(outputId);\n",
              "}\n",
              "\n",
              "// This is roughly an async generator (not supported in the browser yet),\n",
              "// where there are multiple asynchronous steps and the Python side is going\n",
              "// to poll for completion of each step.\n",
              "// This uses a Promise to block the python side on completion of each step,\n",
              "// then passes the result of the previous step as the input to the next step.\n",
              "function _uploadFilesContinue(outputId) {\n",
              "  const outputElement = document.getElementById(outputId);\n",
              "  const steps = outputElement.steps;\n",
              "\n",
              "  const next = steps.next(outputElement.lastPromiseValue);\n",
              "  return Promise.resolve(next.value.promise).then((value) => {\n",
              "    // Cache the last promise value to make it available to the next\n",
              "    // step of the generator.\n",
              "    outputElement.lastPromiseValue = value;\n",
              "    return next.value.response;\n",
              "  });\n",
              "}\n",
              "\n",
              "/**\n",
              " * Generator function which is called between each async step of the upload\n",
              " * process.\n",
              " * @param {string} inputId Element ID of the input file picker element.\n",
              " * @param {string} outputId Element ID of the output display.\n",
              " * @return {!Iterable<!Object>} Iterable of next steps.\n",
              " */\n",
              "function* uploadFilesStep(inputId, outputId) {\n",
              "  const inputElement = document.getElementById(inputId);\n",
              "  inputElement.disabled = false;\n",
              "\n",
              "  const outputElement = document.getElementById(outputId);\n",
              "  outputElement.innerHTML = '';\n",
              "\n",
              "  const pickedPromise = new Promise((resolve) => {\n",
              "    inputElement.addEventListener('change', (e) => {\n",
              "      resolve(e.target.files);\n",
              "    });\n",
              "  });\n",
              "\n",
              "  const cancel = document.createElement('button');\n",
              "  inputElement.parentElement.appendChild(cancel);\n",
              "  cancel.textContent = 'Cancel upload';\n",
              "  const cancelPromise = new Promise((resolve) => {\n",
              "    cancel.onclick = () => {\n",
              "      resolve(null);\n",
              "    };\n",
              "  });\n",
              "\n",
              "  // Wait for the user to pick the files.\n",
              "  const files = yield {\n",
              "    promise: Promise.race([pickedPromise, cancelPromise]),\n",
              "    response: {\n",
              "      action: 'starting',\n",
              "    }\n",
              "  };\n",
              "\n",
              "  cancel.remove();\n",
              "\n",
              "  // Disable the input element since further picks are not allowed.\n",
              "  inputElement.disabled = true;\n",
              "\n",
              "  if (!files) {\n",
              "    return {\n",
              "      response: {\n",
              "        action: 'complete',\n",
              "      }\n",
              "    };\n",
              "  }\n",
              "\n",
              "  for (const file of files) {\n",
              "    const li = document.createElement('li');\n",
              "    li.append(span(file.name, {fontWeight: 'bold'}));\n",
              "    li.append(span(\n",
              "        `(${file.type || 'n/a'}) - ${file.size} bytes, ` +\n",
              "        `last modified: ${\n",
              "            file.lastModifiedDate ? file.lastModifiedDate.toLocaleDateString() :\n",
              "                                    'n/a'} - `));\n",
              "    const percent = span('0% done');\n",
              "    li.appendChild(percent);\n",
              "\n",
              "    outputElement.appendChild(li);\n",
              "\n",
              "    const fileDataPromise = new Promise((resolve) => {\n",
              "      const reader = new FileReader();\n",
              "      reader.onload = (e) => {\n",
              "        resolve(e.target.result);\n",
              "      };\n",
              "      reader.readAsArrayBuffer(file);\n",
              "    });\n",
              "    // Wait for the data to be ready.\n",
              "    let fileData = yield {\n",
              "      promise: fileDataPromise,\n",
              "      response: {\n",
              "        action: 'continue',\n",
              "      }\n",
              "    };\n",
              "\n",
              "    // Use a chunked sending to avoid message size limits. See b/62115660.\n",
              "    let position = 0;\n",
              "    do {\n",
              "      const length = Math.min(fileData.byteLength - position, MAX_PAYLOAD_SIZE);\n",
              "      const chunk = new Uint8Array(fileData, position, length);\n",
              "      position += length;\n",
              "\n",
              "      const base64 = btoa(String.fromCharCode.apply(null, chunk));\n",
              "      yield {\n",
              "        response: {\n",
              "          action: 'append',\n",
              "          file: file.name,\n",
              "          data: base64,\n",
              "        },\n",
              "      };\n",
              "\n",
              "      let percentDone = fileData.byteLength === 0 ?\n",
              "          100 :\n",
              "          Math.round((position / fileData.byteLength) * 100);\n",
              "      percent.textContent = `${percentDone}% done`;\n",
              "\n",
              "    } while (position < fileData.byteLength);\n",
              "  }\n",
              "\n",
              "  // All done.\n",
              "  yield {\n",
              "    response: {\n",
              "      action: 'complete',\n",
              "    }\n",
              "  };\n",
              "}\n",
              "\n",
              "scope.google = scope.google || {};\n",
              "scope.google.colab = scope.google.colab || {};\n",
              "scope.google.colab._files = {\n",
              "  _uploadFiles,\n",
              "  _uploadFilesContinue,\n",
              "};\n",
              "})(self);\n",
              "</script> "
            ]
          },
          "metadata": {}
        },
        {
          "output_type": "stream",
          "name": "stdout",
          "text": [
            "Saving corporate_rating.csv to corporate_rating.csv\n"
          ]
        }
      ]
    },
    {
      "cell_type": "code",
      "source": [
        "import pandas as pd\n",
        "import numpy as np\n",
        "\n",
        "# get the data\n",
        "df = pd.read_csv('corporate_rating.csv')\n",
        "\n",
        "# drop non-numerical predictors\n",
        "df_numerical = df.drop(df.columns[1:6], axis=1)\n",
        "\n",
        "df_numerical.head()"
      ],
      "metadata": {
        "colab": {
          "base_uri": "https://localhost:8080/",
          "height": 256
        },
        "id": "AmqMwvIB21pJ",
        "outputId": "87f7dc6a-9c3e-4685-ef1d-4750fdf30a40",
        "collapsed": true
      },
      "execution_count": null,
      "outputs": [
        {
          "output_type": "execute_result",
          "data": {
            "text/plain": [
              "  Rating  currentRatio  quickRatio  cashRatio  daysOfSalesOutstanding  \\\n",
              "0      A      0.945894    0.426395   0.099690               44.203245   \n",
              "1    BBB      1.033559    0.498234   0.203120               38.991156   \n",
              "2    BBB      0.963703    0.451505   0.122099               50.841385   \n",
              "3    BBB      1.019851    0.510402   0.176116               41.161738   \n",
              "4    BBB      0.957844    0.495432   0.141608               47.761126   \n",
              "\n",
              "   netProfitMargin  pretaxProfitMargin  grossProfitMargin  \\\n",
              "0         0.037480            0.049351           0.176631   \n",
              "1         0.044062            0.048857           0.175715   \n",
              "2         0.032709            0.044334           0.170843   \n",
              "3         0.020894           -0.012858           0.138059   \n",
              "4         0.042861            0.053770           0.177720   \n",
              "\n",
              "   operatingProfitMargin  returnOnAssets  ...  effectiveTaxRate  \\\n",
              "0               0.061510        0.041189  ...          0.202716   \n",
              "1               0.066546        0.053204  ...          0.074155   \n",
              "2               0.059783        0.032497  ...          0.214529   \n",
              "3               0.042430        0.025690  ...          1.816667   \n",
              "4               0.065354        0.046363  ...          0.166966   \n",
              "\n",
              "   freeCashFlowOperatingCashFlowRatio  freeCashFlowPerShare  cashPerShare  \\\n",
              "0                            0.437551              6.810673      9.809403   \n",
              "1                            0.541997              8.625473     17.402270   \n",
              "2                            0.513185              9.693487     13.103448   \n",
              "3                           -0.147170             -1.015625     14.440104   \n",
              "4                            0.451372              7.135348     14.257556   \n",
              "\n",
              "   companyEquityMultiplier  ebitPerRevenue  enterpriseValueMultiple  \\\n",
              "0                 4.008012        0.049351                 7.057088   \n",
              "1                 3.156783        0.048857                 6.460618   \n",
              "2                 4.094575        0.044334                10.491970   \n",
              "3                 3.630950       -0.012858                 4.080741   \n",
              "4                 4.012780        0.053770                 8.293505   \n",
              "\n",
              "   operatingCashFlowPerShare  operatingCashFlowSalesRatio  payablesTurnover  \n",
              "0                  15.565438                     0.058638          3.906655  \n",
              "1                  15.914250                     0.067239          4.002846  \n",
              "2                  18.888889                     0.074426          3.483510  \n",
              "3                   6.901042                     0.028394          4.581150  \n",
              "4                  15.808147                     0.058065          3.857790  \n",
              "\n",
              "[5 rows x 26 columns]"
            ],
            "text/html": [
              "\n",
              "  <div id=\"df-b4abfc27-bb3b-4f73-a672-5aea59cae70b\" class=\"colab-df-container\">\n",
              "    <div>\n",
              "<style scoped>\n",
              "    .dataframe tbody tr th:only-of-type {\n",
              "        vertical-align: middle;\n",
              "    }\n",
              "\n",
              "    .dataframe tbody tr th {\n",
              "        vertical-align: top;\n",
              "    }\n",
              "\n",
              "    .dataframe thead th {\n",
              "        text-align: right;\n",
              "    }\n",
              "</style>\n",
              "<table border=\"1\" class=\"dataframe\">\n",
              "  <thead>\n",
              "    <tr style=\"text-align: right;\">\n",
              "      <th></th>\n",
              "      <th>Rating</th>\n",
              "      <th>currentRatio</th>\n",
              "      <th>quickRatio</th>\n",
              "      <th>cashRatio</th>\n",
              "      <th>daysOfSalesOutstanding</th>\n",
              "      <th>netProfitMargin</th>\n",
              "      <th>pretaxProfitMargin</th>\n",
              "      <th>grossProfitMargin</th>\n",
              "      <th>operatingProfitMargin</th>\n",
              "      <th>returnOnAssets</th>\n",
              "      <th>...</th>\n",
              "      <th>effectiveTaxRate</th>\n",
              "      <th>freeCashFlowOperatingCashFlowRatio</th>\n",
              "      <th>freeCashFlowPerShare</th>\n",
              "      <th>cashPerShare</th>\n",
              "      <th>companyEquityMultiplier</th>\n",
              "      <th>ebitPerRevenue</th>\n",
              "      <th>enterpriseValueMultiple</th>\n",
              "      <th>operatingCashFlowPerShare</th>\n",
              "      <th>operatingCashFlowSalesRatio</th>\n",
              "      <th>payablesTurnover</th>\n",
              "    </tr>\n",
              "  </thead>\n",
              "  <tbody>\n",
              "    <tr>\n",
              "      <th>0</th>\n",
              "      <td>A</td>\n",
              "      <td>0.945894</td>\n",
              "      <td>0.426395</td>\n",
              "      <td>0.099690</td>\n",
              "      <td>44.203245</td>\n",
              "      <td>0.037480</td>\n",
              "      <td>0.049351</td>\n",
              "      <td>0.176631</td>\n",
              "      <td>0.061510</td>\n",
              "      <td>0.041189</td>\n",
              "      <td>...</td>\n",
              "      <td>0.202716</td>\n",
              "      <td>0.437551</td>\n",
              "      <td>6.810673</td>\n",
              "      <td>9.809403</td>\n",
              "      <td>4.008012</td>\n",
              "      <td>0.049351</td>\n",
              "      <td>7.057088</td>\n",
              "      <td>15.565438</td>\n",
              "      <td>0.058638</td>\n",
              "      <td>3.906655</td>\n",
              "    </tr>\n",
              "    <tr>\n",
              "      <th>1</th>\n",
              "      <td>BBB</td>\n",
              "      <td>1.033559</td>\n",
              "      <td>0.498234</td>\n",
              "      <td>0.203120</td>\n",
              "      <td>38.991156</td>\n",
              "      <td>0.044062</td>\n",
              "      <td>0.048857</td>\n",
              "      <td>0.175715</td>\n",
              "      <td>0.066546</td>\n",
              "      <td>0.053204</td>\n",
              "      <td>...</td>\n",
              "      <td>0.074155</td>\n",
              "      <td>0.541997</td>\n",
              "      <td>8.625473</td>\n",
              "      <td>17.402270</td>\n",
              "      <td>3.156783</td>\n",
              "      <td>0.048857</td>\n",
              "      <td>6.460618</td>\n",
              "      <td>15.914250</td>\n",
              "      <td>0.067239</td>\n",
              "      <td>4.002846</td>\n",
              "    </tr>\n",
              "    <tr>\n",
              "      <th>2</th>\n",
              "      <td>BBB</td>\n",
              "      <td>0.963703</td>\n",
              "      <td>0.451505</td>\n",
              "      <td>0.122099</td>\n",
              "      <td>50.841385</td>\n",
              "      <td>0.032709</td>\n",
              "      <td>0.044334</td>\n",
              "      <td>0.170843</td>\n",
              "      <td>0.059783</td>\n",
              "      <td>0.032497</td>\n",
              "      <td>...</td>\n",
              "      <td>0.214529</td>\n",
              "      <td>0.513185</td>\n",
              "      <td>9.693487</td>\n",
              "      <td>13.103448</td>\n",
              "      <td>4.094575</td>\n",
              "      <td>0.044334</td>\n",
              "      <td>10.491970</td>\n",
              "      <td>18.888889</td>\n",
              "      <td>0.074426</td>\n",
              "      <td>3.483510</td>\n",
              "    </tr>\n",
              "    <tr>\n",
              "      <th>3</th>\n",
              "      <td>BBB</td>\n",
              "      <td>1.019851</td>\n",
              "      <td>0.510402</td>\n",
              "      <td>0.176116</td>\n",
              "      <td>41.161738</td>\n",
              "      <td>0.020894</td>\n",
              "      <td>-0.012858</td>\n",
              "      <td>0.138059</td>\n",
              "      <td>0.042430</td>\n",
              "      <td>0.025690</td>\n",
              "      <td>...</td>\n",
              "      <td>1.816667</td>\n",
              "      <td>-0.147170</td>\n",
              "      <td>-1.015625</td>\n",
              "      <td>14.440104</td>\n",
              "      <td>3.630950</td>\n",
              "      <td>-0.012858</td>\n",
              "      <td>4.080741</td>\n",
              "      <td>6.901042</td>\n",
              "      <td>0.028394</td>\n",
              "      <td>4.581150</td>\n",
              "    </tr>\n",
              "    <tr>\n",
              "      <th>4</th>\n",
              "      <td>BBB</td>\n",
              "      <td>0.957844</td>\n",
              "      <td>0.495432</td>\n",
              "      <td>0.141608</td>\n",
              "      <td>47.761126</td>\n",
              "      <td>0.042861</td>\n",
              "      <td>0.053770</td>\n",
              "      <td>0.177720</td>\n",
              "      <td>0.065354</td>\n",
              "      <td>0.046363</td>\n",
              "      <td>...</td>\n",
              "      <td>0.166966</td>\n",
              "      <td>0.451372</td>\n",
              "      <td>7.135348</td>\n",
              "      <td>14.257556</td>\n",
              "      <td>4.012780</td>\n",
              "      <td>0.053770</td>\n",
              "      <td>8.293505</td>\n",
              "      <td>15.808147</td>\n",
              "      <td>0.058065</td>\n",
              "      <td>3.857790</td>\n",
              "    </tr>\n",
              "  </tbody>\n",
              "</table>\n",
              "<p>5 rows × 26 columns</p>\n",
              "</div>\n",
              "    <div class=\"colab-df-buttons\">\n",
              "\n",
              "  <div class=\"colab-df-container\">\n",
              "    <button class=\"colab-df-convert\" onclick=\"convertToInteractive('df-b4abfc27-bb3b-4f73-a672-5aea59cae70b')\"\n",
              "            title=\"Convert this dataframe to an interactive table.\"\n",
              "            style=\"display:none;\">\n",
              "\n",
              "  <svg xmlns=\"http://www.w3.org/2000/svg\" height=\"24px\" viewBox=\"0 -960 960 960\">\n",
              "    <path d=\"M120-120v-720h720v720H120Zm60-500h600v-160H180v160Zm220 220h160v-160H400v160Zm0 220h160v-160H400v160ZM180-400h160v-160H180v160Zm440 0h160v-160H620v160ZM180-180h160v-160H180v160Zm440 0h160v-160H620v160Z\"/>\n",
              "  </svg>\n",
              "    </button>\n",
              "\n",
              "  <style>\n",
              "    .colab-df-container {\n",
              "      display:flex;\n",
              "      gap: 12px;\n",
              "    }\n",
              "\n",
              "    .colab-df-convert {\n",
              "      background-color: #E8F0FE;\n",
              "      border: none;\n",
              "      border-radius: 50%;\n",
              "      cursor: pointer;\n",
              "      display: none;\n",
              "      fill: #1967D2;\n",
              "      height: 32px;\n",
              "      padding: 0 0 0 0;\n",
              "      width: 32px;\n",
              "    }\n",
              "\n",
              "    .colab-df-convert:hover {\n",
              "      background-color: #E2EBFA;\n",
              "      box-shadow: 0px 1px 2px rgba(60, 64, 67, 0.3), 0px 1px 3px 1px rgba(60, 64, 67, 0.15);\n",
              "      fill: #174EA6;\n",
              "    }\n",
              "\n",
              "    .colab-df-buttons div {\n",
              "      margin-bottom: 4px;\n",
              "    }\n",
              "\n",
              "    [theme=dark] .colab-df-convert {\n",
              "      background-color: #3B4455;\n",
              "      fill: #D2E3FC;\n",
              "    }\n",
              "\n",
              "    [theme=dark] .colab-df-convert:hover {\n",
              "      background-color: #434B5C;\n",
              "      box-shadow: 0px 1px 3px 1px rgba(0, 0, 0, 0.15);\n",
              "      filter: drop-shadow(0px 1px 2px rgba(0, 0, 0, 0.3));\n",
              "      fill: #FFFFFF;\n",
              "    }\n",
              "  </style>\n",
              "\n",
              "    <script>\n",
              "      const buttonEl =\n",
              "        document.querySelector('#df-b4abfc27-bb3b-4f73-a672-5aea59cae70b button.colab-df-convert');\n",
              "      buttonEl.style.display =\n",
              "        google.colab.kernel.accessAllowed ? 'block' : 'none';\n",
              "\n",
              "      async function convertToInteractive(key) {\n",
              "        const element = document.querySelector('#df-b4abfc27-bb3b-4f73-a672-5aea59cae70b');\n",
              "        const dataTable =\n",
              "          await google.colab.kernel.invokeFunction('convertToInteractive',\n",
              "                                                    [key], {});\n",
              "        if (!dataTable) return;\n",
              "\n",
              "        const docLinkHtml = 'Like what you see? Visit the ' +\n",
              "          '<a target=\"_blank\" href=https://colab.research.google.com/notebooks/data_table.ipynb>data table notebook</a>'\n",
              "          + ' to learn more about interactive tables.';\n",
              "        element.innerHTML = '';\n",
              "        dataTable['output_type'] = 'display_data';\n",
              "        await google.colab.output.renderOutput(dataTable, element);\n",
              "        const docLink = document.createElement('div');\n",
              "        docLink.innerHTML = docLinkHtml;\n",
              "        element.appendChild(docLink);\n",
              "      }\n",
              "    </script>\n",
              "  </div>\n",
              "\n",
              "\n",
              "    <div id=\"df-07e75336-f217-466c-b481-cdd11ec6daa9\">\n",
              "      <button class=\"colab-df-quickchart\" onclick=\"quickchart('df-07e75336-f217-466c-b481-cdd11ec6daa9')\"\n",
              "                title=\"Suggest charts\"\n",
              "                style=\"display:none;\">\n",
              "\n",
              "<svg xmlns=\"http://www.w3.org/2000/svg\" height=\"24px\"viewBox=\"0 0 24 24\"\n",
              "     width=\"24px\">\n",
              "    <g>\n",
              "        <path d=\"M19 3H5c-1.1 0-2 .9-2 2v14c0 1.1.9 2 2 2h14c1.1 0 2-.9 2-2V5c0-1.1-.9-2-2-2zM9 17H7v-7h2v7zm4 0h-2V7h2v10zm4 0h-2v-4h2v4z\"/>\n",
              "    </g>\n",
              "</svg>\n",
              "      </button>\n",
              "\n",
              "<style>\n",
              "  .colab-df-quickchart {\n",
              "      --bg-color: #E8F0FE;\n",
              "      --fill-color: #1967D2;\n",
              "      --hover-bg-color: #E2EBFA;\n",
              "      --hover-fill-color: #174EA6;\n",
              "      --disabled-fill-color: #AAA;\n",
              "      --disabled-bg-color: #DDD;\n",
              "  }\n",
              "\n",
              "  [theme=dark] .colab-df-quickchart {\n",
              "      --bg-color: #3B4455;\n",
              "      --fill-color: #D2E3FC;\n",
              "      --hover-bg-color: #434B5C;\n",
              "      --hover-fill-color: #FFFFFF;\n",
              "      --disabled-bg-color: #3B4455;\n",
              "      --disabled-fill-color: #666;\n",
              "  }\n",
              "\n",
              "  .colab-df-quickchart {\n",
              "    background-color: var(--bg-color);\n",
              "    border: none;\n",
              "    border-radius: 50%;\n",
              "    cursor: pointer;\n",
              "    display: none;\n",
              "    fill: var(--fill-color);\n",
              "    height: 32px;\n",
              "    padding: 0;\n",
              "    width: 32px;\n",
              "  }\n",
              "\n",
              "  .colab-df-quickchart:hover {\n",
              "    background-color: var(--hover-bg-color);\n",
              "    box-shadow: 0 1px 2px rgba(60, 64, 67, 0.3), 0 1px 3px 1px rgba(60, 64, 67, 0.15);\n",
              "    fill: var(--button-hover-fill-color);\n",
              "  }\n",
              "\n",
              "  .colab-df-quickchart-complete:disabled,\n",
              "  .colab-df-quickchart-complete:disabled:hover {\n",
              "    background-color: var(--disabled-bg-color);\n",
              "    fill: var(--disabled-fill-color);\n",
              "    box-shadow: none;\n",
              "  }\n",
              "\n",
              "  .colab-df-spinner {\n",
              "    border: 2px solid var(--fill-color);\n",
              "    border-color: transparent;\n",
              "    border-bottom-color: var(--fill-color);\n",
              "    animation:\n",
              "      spin 1s steps(1) infinite;\n",
              "  }\n",
              "\n",
              "  @keyframes spin {\n",
              "    0% {\n",
              "      border-color: transparent;\n",
              "      border-bottom-color: var(--fill-color);\n",
              "      border-left-color: var(--fill-color);\n",
              "    }\n",
              "    20% {\n",
              "      border-color: transparent;\n",
              "      border-left-color: var(--fill-color);\n",
              "      border-top-color: var(--fill-color);\n",
              "    }\n",
              "    30% {\n",
              "      border-color: transparent;\n",
              "      border-left-color: var(--fill-color);\n",
              "      border-top-color: var(--fill-color);\n",
              "      border-right-color: var(--fill-color);\n",
              "    }\n",
              "    40% {\n",
              "      border-color: transparent;\n",
              "      border-right-color: var(--fill-color);\n",
              "      border-top-color: var(--fill-color);\n",
              "    }\n",
              "    60% {\n",
              "      border-color: transparent;\n",
              "      border-right-color: var(--fill-color);\n",
              "    }\n",
              "    80% {\n",
              "      border-color: transparent;\n",
              "      border-right-color: var(--fill-color);\n",
              "      border-bottom-color: var(--fill-color);\n",
              "    }\n",
              "    90% {\n",
              "      border-color: transparent;\n",
              "      border-bottom-color: var(--fill-color);\n",
              "    }\n",
              "  }\n",
              "</style>\n",
              "\n",
              "      <script>\n",
              "        async function quickchart(key) {\n",
              "          const quickchartButtonEl =\n",
              "            document.querySelector('#' + key + ' button');\n",
              "          quickchartButtonEl.disabled = true;  // To prevent multiple clicks.\n",
              "          quickchartButtonEl.classList.add('colab-df-spinner');\n",
              "          try {\n",
              "            const charts = await google.colab.kernel.invokeFunction(\n",
              "                'suggestCharts', [key], {});\n",
              "          } catch (error) {\n",
              "            console.error('Error during call to suggestCharts:', error);\n",
              "          }\n",
              "          quickchartButtonEl.classList.remove('colab-df-spinner');\n",
              "          quickchartButtonEl.classList.add('colab-df-quickchart-complete');\n",
              "        }\n",
              "        (() => {\n",
              "          let quickchartButtonEl =\n",
              "            document.querySelector('#df-07e75336-f217-466c-b481-cdd11ec6daa9 button');\n",
              "          quickchartButtonEl.style.display =\n",
              "            google.colab.kernel.accessAllowed ? 'block' : 'none';\n",
              "        })();\n",
              "      </script>\n",
              "    </div>\n",
              "\n",
              "    </div>\n",
              "  </div>\n"
            ],
            "application/vnd.google.colaboratory.intrinsic+json": {
              "type": "dataframe",
              "variable_name": "df_numerical"
            }
          },
          "metadata": {},
          "execution_count": 3
        }
      ]
    },
    {
      "cell_type": "markdown",
      "source": [
        "Step 1: encode ratings into numbers and standardize numerical variables"
      ],
      "metadata": {
        "id": "iR0FzFTuC9yb"
      }
    },
    {
      "cell_type": "markdown",
      "source": [
        "Souces:\n",
        "- python iterrows()\n",
        "- (subject to making code more explicit)"
      ],
      "metadata": {
        "id": "bwe3bBVQD6-V"
      }
    },
    {
      "cell_type": "code",
      "source": [
        "import time\n",
        "\n",
        "start = time.perf_counter()\n",
        "# add numerical ratings in proper order\n",
        "\n",
        "df_numerical['Rating'] = df_numerical['Rating'].str.strip().str.upper()\n",
        "\n",
        "rating_array = ['AAA', 'AA', 'A', 'BBB', 'BB', 'B', 'CCC', 'CC', 'C', 'D']\n",
        "rating_values = [10, 9, 8, 7, 6, 5, 4, 3, 2, 1]\n",
        "\n",
        "for i, row in df_numerical.iterrows():\n",
        "    for j in range(len(rating_array)):\n",
        "        if row['Rating'] == rating_array[j]:\n",
        "            df_numerical.at[i, 'Rating'] = rating_values[j]\n",
        "            break\n",
        "\n",
        "df_numerical['Rating'] = df_numerical['Rating'].astype(int)\n",
        "\n",
        "end = time.perf_counter()\n",
        "\n",
        "print(end-start)\n",
        "\n",
        "df_numerical.head()"
      ],
      "metadata": {
        "colab": {
          "base_uri": "https://localhost:8080/",
          "height": 273
        },
        "collapsed": true,
        "id": "xBd5e5FtCxOl",
        "outputId": "50abec25-e300-407f-ed28-554a4a2e9146"
      },
      "execution_count": null,
      "outputs": [
        {
          "output_type": "stream",
          "name": "stdout",
          "text": [
            "0.16200536799999554\n"
          ]
        },
        {
          "output_type": "execute_result",
          "data": {
            "text/plain": [
              "   Rating  currentRatio  quickRatio  cashRatio  daysOfSalesOutstanding  \\\n",
              "0       8      0.945894    0.426395   0.099690               44.203245   \n",
              "1       7      1.033559    0.498234   0.203120               38.991156   \n",
              "2       7      0.963703    0.451505   0.122099               50.841385   \n",
              "3       7      1.019851    0.510402   0.176116               41.161738   \n",
              "4       7      0.957844    0.495432   0.141608               47.761126   \n",
              "\n",
              "   netProfitMargin  pretaxProfitMargin  grossProfitMargin  \\\n",
              "0         0.037480            0.049351           0.176631   \n",
              "1         0.044062            0.048857           0.175715   \n",
              "2         0.032709            0.044334           0.170843   \n",
              "3         0.020894           -0.012858           0.138059   \n",
              "4         0.042861            0.053770           0.177720   \n",
              "\n",
              "   operatingProfitMargin  returnOnAssets  ...  effectiveTaxRate  \\\n",
              "0               0.061510        0.041189  ...          0.202716   \n",
              "1               0.066546        0.053204  ...          0.074155   \n",
              "2               0.059783        0.032497  ...          0.214529   \n",
              "3               0.042430        0.025690  ...          1.816667   \n",
              "4               0.065354        0.046363  ...          0.166966   \n",
              "\n",
              "   freeCashFlowOperatingCashFlowRatio  freeCashFlowPerShare  cashPerShare  \\\n",
              "0                            0.437551              6.810673      9.809403   \n",
              "1                            0.541997              8.625473     17.402270   \n",
              "2                            0.513185              9.693487     13.103448   \n",
              "3                           -0.147170             -1.015625     14.440104   \n",
              "4                            0.451372              7.135348     14.257556   \n",
              "\n",
              "   companyEquityMultiplier  ebitPerRevenue  enterpriseValueMultiple  \\\n",
              "0                 4.008012        0.049351                 7.057088   \n",
              "1                 3.156783        0.048857                 6.460618   \n",
              "2                 4.094575        0.044334                10.491970   \n",
              "3                 3.630950       -0.012858                 4.080741   \n",
              "4                 4.012780        0.053770                 8.293505   \n",
              "\n",
              "   operatingCashFlowPerShare  operatingCashFlowSalesRatio  payablesTurnover  \n",
              "0                  15.565438                     0.058638          3.906655  \n",
              "1                  15.914250                     0.067239          4.002846  \n",
              "2                  18.888889                     0.074426          3.483510  \n",
              "3                   6.901042                     0.028394          4.581150  \n",
              "4                  15.808147                     0.058065          3.857790  \n",
              "\n",
              "[5 rows x 26 columns]"
            ],
            "text/html": [
              "\n",
              "  <div id=\"df-433b33af-8c07-4f1a-9573-7a9e25b09450\" class=\"colab-df-container\">\n",
              "    <div>\n",
              "<style scoped>\n",
              "    .dataframe tbody tr th:only-of-type {\n",
              "        vertical-align: middle;\n",
              "    }\n",
              "\n",
              "    .dataframe tbody tr th {\n",
              "        vertical-align: top;\n",
              "    }\n",
              "\n",
              "    .dataframe thead th {\n",
              "        text-align: right;\n",
              "    }\n",
              "</style>\n",
              "<table border=\"1\" class=\"dataframe\">\n",
              "  <thead>\n",
              "    <tr style=\"text-align: right;\">\n",
              "      <th></th>\n",
              "      <th>Rating</th>\n",
              "      <th>currentRatio</th>\n",
              "      <th>quickRatio</th>\n",
              "      <th>cashRatio</th>\n",
              "      <th>daysOfSalesOutstanding</th>\n",
              "      <th>netProfitMargin</th>\n",
              "      <th>pretaxProfitMargin</th>\n",
              "      <th>grossProfitMargin</th>\n",
              "      <th>operatingProfitMargin</th>\n",
              "      <th>returnOnAssets</th>\n",
              "      <th>...</th>\n",
              "      <th>effectiveTaxRate</th>\n",
              "      <th>freeCashFlowOperatingCashFlowRatio</th>\n",
              "      <th>freeCashFlowPerShare</th>\n",
              "      <th>cashPerShare</th>\n",
              "      <th>companyEquityMultiplier</th>\n",
              "      <th>ebitPerRevenue</th>\n",
              "      <th>enterpriseValueMultiple</th>\n",
              "      <th>operatingCashFlowPerShare</th>\n",
              "      <th>operatingCashFlowSalesRatio</th>\n",
              "      <th>payablesTurnover</th>\n",
              "    </tr>\n",
              "  </thead>\n",
              "  <tbody>\n",
              "    <tr>\n",
              "      <th>0</th>\n",
              "      <td>8</td>\n",
              "      <td>0.945894</td>\n",
              "      <td>0.426395</td>\n",
              "      <td>0.099690</td>\n",
              "      <td>44.203245</td>\n",
              "      <td>0.037480</td>\n",
              "      <td>0.049351</td>\n",
              "      <td>0.176631</td>\n",
              "      <td>0.061510</td>\n",
              "      <td>0.041189</td>\n",
              "      <td>...</td>\n",
              "      <td>0.202716</td>\n",
              "      <td>0.437551</td>\n",
              "      <td>6.810673</td>\n",
              "      <td>9.809403</td>\n",
              "      <td>4.008012</td>\n",
              "      <td>0.049351</td>\n",
              "      <td>7.057088</td>\n",
              "      <td>15.565438</td>\n",
              "      <td>0.058638</td>\n",
              "      <td>3.906655</td>\n",
              "    </tr>\n",
              "    <tr>\n",
              "      <th>1</th>\n",
              "      <td>7</td>\n",
              "      <td>1.033559</td>\n",
              "      <td>0.498234</td>\n",
              "      <td>0.203120</td>\n",
              "      <td>38.991156</td>\n",
              "      <td>0.044062</td>\n",
              "      <td>0.048857</td>\n",
              "      <td>0.175715</td>\n",
              "      <td>0.066546</td>\n",
              "      <td>0.053204</td>\n",
              "      <td>...</td>\n",
              "      <td>0.074155</td>\n",
              "      <td>0.541997</td>\n",
              "      <td>8.625473</td>\n",
              "      <td>17.402270</td>\n",
              "      <td>3.156783</td>\n",
              "      <td>0.048857</td>\n",
              "      <td>6.460618</td>\n",
              "      <td>15.914250</td>\n",
              "      <td>0.067239</td>\n",
              "      <td>4.002846</td>\n",
              "    </tr>\n",
              "    <tr>\n",
              "      <th>2</th>\n",
              "      <td>7</td>\n",
              "      <td>0.963703</td>\n",
              "      <td>0.451505</td>\n",
              "      <td>0.122099</td>\n",
              "      <td>50.841385</td>\n",
              "      <td>0.032709</td>\n",
              "      <td>0.044334</td>\n",
              "      <td>0.170843</td>\n",
              "      <td>0.059783</td>\n",
              "      <td>0.032497</td>\n",
              "      <td>...</td>\n",
              "      <td>0.214529</td>\n",
              "      <td>0.513185</td>\n",
              "      <td>9.693487</td>\n",
              "      <td>13.103448</td>\n",
              "      <td>4.094575</td>\n",
              "      <td>0.044334</td>\n",
              "      <td>10.491970</td>\n",
              "      <td>18.888889</td>\n",
              "      <td>0.074426</td>\n",
              "      <td>3.483510</td>\n",
              "    </tr>\n",
              "    <tr>\n",
              "      <th>3</th>\n",
              "      <td>7</td>\n",
              "      <td>1.019851</td>\n",
              "      <td>0.510402</td>\n",
              "      <td>0.176116</td>\n",
              "      <td>41.161738</td>\n",
              "      <td>0.020894</td>\n",
              "      <td>-0.012858</td>\n",
              "      <td>0.138059</td>\n",
              "      <td>0.042430</td>\n",
              "      <td>0.025690</td>\n",
              "      <td>...</td>\n",
              "      <td>1.816667</td>\n",
              "      <td>-0.147170</td>\n",
              "      <td>-1.015625</td>\n",
              "      <td>14.440104</td>\n",
              "      <td>3.630950</td>\n",
              "      <td>-0.012858</td>\n",
              "      <td>4.080741</td>\n",
              "      <td>6.901042</td>\n",
              "      <td>0.028394</td>\n",
              "      <td>4.581150</td>\n",
              "    </tr>\n",
              "    <tr>\n",
              "      <th>4</th>\n",
              "      <td>7</td>\n",
              "      <td>0.957844</td>\n",
              "      <td>0.495432</td>\n",
              "      <td>0.141608</td>\n",
              "      <td>47.761126</td>\n",
              "      <td>0.042861</td>\n",
              "      <td>0.053770</td>\n",
              "      <td>0.177720</td>\n",
              "      <td>0.065354</td>\n",
              "      <td>0.046363</td>\n",
              "      <td>...</td>\n",
              "      <td>0.166966</td>\n",
              "      <td>0.451372</td>\n",
              "      <td>7.135348</td>\n",
              "      <td>14.257556</td>\n",
              "      <td>4.012780</td>\n",
              "      <td>0.053770</td>\n",
              "      <td>8.293505</td>\n",
              "      <td>15.808147</td>\n",
              "      <td>0.058065</td>\n",
              "      <td>3.857790</td>\n",
              "    </tr>\n",
              "  </tbody>\n",
              "</table>\n",
              "<p>5 rows × 26 columns</p>\n",
              "</div>\n",
              "    <div class=\"colab-df-buttons\">\n",
              "\n",
              "  <div class=\"colab-df-container\">\n",
              "    <button class=\"colab-df-convert\" onclick=\"convertToInteractive('df-433b33af-8c07-4f1a-9573-7a9e25b09450')\"\n",
              "            title=\"Convert this dataframe to an interactive table.\"\n",
              "            style=\"display:none;\">\n",
              "\n",
              "  <svg xmlns=\"http://www.w3.org/2000/svg\" height=\"24px\" viewBox=\"0 -960 960 960\">\n",
              "    <path d=\"M120-120v-720h720v720H120Zm60-500h600v-160H180v160Zm220 220h160v-160H400v160Zm0 220h160v-160H400v160ZM180-400h160v-160H180v160Zm440 0h160v-160H620v160ZM180-180h160v-160H180v160Zm440 0h160v-160H620v160Z\"/>\n",
              "  </svg>\n",
              "    </button>\n",
              "\n",
              "  <style>\n",
              "    .colab-df-container {\n",
              "      display:flex;\n",
              "      gap: 12px;\n",
              "    }\n",
              "\n",
              "    .colab-df-convert {\n",
              "      background-color: #E8F0FE;\n",
              "      border: none;\n",
              "      border-radius: 50%;\n",
              "      cursor: pointer;\n",
              "      display: none;\n",
              "      fill: #1967D2;\n",
              "      height: 32px;\n",
              "      padding: 0 0 0 0;\n",
              "      width: 32px;\n",
              "    }\n",
              "\n",
              "    .colab-df-convert:hover {\n",
              "      background-color: #E2EBFA;\n",
              "      box-shadow: 0px 1px 2px rgba(60, 64, 67, 0.3), 0px 1px 3px 1px rgba(60, 64, 67, 0.15);\n",
              "      fill: #174EA6;\n",
              "    }\n",
              "\n",
              "    .colab-df-buttons div {\n",
              "      margin-bottom: 4px;\n",
              "    }\n",
              "\n",
              "    [theme=dark] .colab-df-convert {\n",
              "      background-color: #3B4455;\n",
              "      fill: #D2E3FC;\n",
              "    }\n",
              "\n",
              "    [theme=dark] .colab-df-convert:hover {\n",
              "      background-color: #434B5C;\n",
              "      box-shadow: 0px 1px 3px 1px rgba(0, 0, 0, 0.15);\n",
              "      filter: drop-shadow(0px 1px 2px rgba(0, 0, 0, 0.3));\n",
              "      fill: #FFFFFF;\n",
              "    }\n",
              "  </style>\n",
              "\n",
              "    <script>\n",
              "      const buttonEl =\n",
              "        document.querySelector('#df-433b33af-8c07-4f1a-9573-7a9e25b09450 button.colab-df-convert');\n",
              "      buttonEl.style.display =\n",
              "        google.colab.kernel.accessAllowed ? 'block' : 'none';\n",
              "\n",
              "      async function convertToInteractive(key) {\n",
              "        const element = document.querySelector('#df-433b33af-8c07-4f1a-9573-7a9e25b09450');\n",
              "        const dataTable =\n",
              "          await google.colab.kernel.invokeFunction('convertToInteractive',\n",
              "                                                    [key], {});\n",
              "        if (!dataTable) return;\n",
              "\n",
              "        const docLinkHtml = 'Like what you see? Visit the ' +\n",
              "          '<a target=\"_blank\" href=https://colab.research.google.com/notebooks/data_table.ipynb>data table notebook</a>'\n",
              "          + ' to learn more about interactive tables.';\n",
              "        element.innerHTML = '';\n",
              "        dataTable['output_type'] = 'display_data';\n",
              "        await google.colab.output.renderOutput(dataTable, element);\n",
              "        const docLink = document.createElement('div');\n",
              "        docLink.innerHTML = docLinkHtml;\n",
              "        element.appendChild(docLink);\n",
              "      }\n",
              "    </script>\n",
              "  </div>\n",
              "\n",
              "\n",
              "    <div id=\"df-9793938e-9c83-4de4-9624-d049ae5ecf49\">\n",
              "      <button class=\"colab-df-quickchart\" onclick=\"quickchart('df-9793938e-9c83-4de4-9624-d049ae5ecf49')\"\n",
              "                title=\"Suggest charts\"\n",
              "                style=\"display:none;\">\n",
              "\n",
              "<svg xmlns=\"http://www.w3.org/2000/svg\" height=\"24px\"viewBox=\"0 0 24 24\"\n",
              "     width=\"24px\">\n",
              "    <g>\n",
              "        <path d=\"M19 3H5c-1.1 0-2 .9-2 2v14c0 1.1.9 2 2 2h14c1.1 0 2-.9 2-2V5c0-1.1-.9-2-2-2zM9 17H7v-7h2v7zm4 0h-2V7h2v10zm4 0h-2v-4h2v4z\"/>\n",
              "    </g>\n",
              "</svg>\n",
              "      </button>\n",
              "\n",
              "<style>\n",
              "  .colab-df-quickchart {\n",
              "      --bg-color: #E8F0FE;\n",
              "      --fill-color: #1967D2;\n",
              "      --hover-bg-color: #E2EBFA;\n",
              "      --hover-fill-color: #174EA6;\n",
              "      --disabled-fill-color: #AAA;\n",
              "      --disabled-bg-color: #DDD;\n",
              "  }\n",
              "\n",
              "  [theme=dark] .colab-df-quickchart {\n",
              "      --bg-color: #3B4455;\n",
              "      --fill-color: #D2E3FC;\n",
              "      --hover-bg-color: #434B5C;\n",
              "      --hover-fill-color: #FFFFFF;\n",
              "      --disabled-bg-color: #3B4455;\n",
              "      --disabled-fill-color: #666;\n",
              "  }\n",
              "\n",
              "  .colab-df-quickchart {\n",
              "    background-color: var(--bg-color);\n",
              "    border: none;\n",
              "    border-radius: 50%;\n",
              "    cursor: pointer;\n",
              "    display: none;\n",
              "    fill: var(--fill-color);\n",
              "    height: 32px;\n",
              "    padding: 0;\n",
              "    width: 32px;\n",
              "  }\n",
              "\n",
              "  .colab-df-quickchart:hover {\n",
              "    background-color: var(--hover-bg-color);\n",
              "    box-shadow: 0 1px 2px rgba(60, 64, 67, 0.3), 0 1px 3px 1px rgba(60, 64, 67, 0.15);\n",
              "    fill: var(--button-hover-fill-color);\n",
              "  }\n",
              "\n",
              "  .colab-df-quickchart-complete:disabled,\n",
              "  .colab-df-quickchart-complete:disabled:hover {\n",
              "    background-color: var(--disabled-bg-color);\n",
              "    fill: var(--disabled-fill-color);\n",
              "    box-shadow: none;\n",
              "  }\n",
              "\n",
              "  .colab-df-spinner {\n",
              "    border: 2px solid var(--fill-color);\n",
              "    border-color: transparent;\n",
              "    border-bottom-color: var(--fill-color);\n",
              "    animation:\n",
              "      spin 1s steps(1) infinite;\n",
              "  }\n",
              "\n",
              "  @keyframes spin {\n",
              "    0% {\n",
              "      border-color: transparent;\n",
              "      border-bottom-color: var(--fill-color);\n",
              "      border-left-color: var(--fill-color);\n",
              "    }\n",
              "    20% {\n",
              "      border-color: transparent;\n",
              "      border-left-color: var(--fill-color);\n",
              "      border-top-color: var(--fill-color);\n",
              "    }\n",
              "    30% {\n",
              "      border-color: transparent;\n",
              "      border-left-color: var(--fill-color);\n",
              "      border-top-color: var(--fill-color);\n",
              "      border-right-color: var(--fill-color);\n",
              "    }\n",
              "    40% {\n",
              "      border-color: transparent;\n",
              "      border-right-color: var(--fill-color);\n",
              "      border-top-color: var(--fill-color);\n",
              "    }\n",
              "    60% {\n",
              "      border-color: transparent;\n",
              "      border-right-color: var(--fill-color);\n",
              "    }\n",
              "    80% {\n",
              "      border-color: transparent;\n",
              "      border-right-color: var(--fill-color);\n",
              "      border-bottom-color: var(--fill-color);\n",
              "    }\n",
              "    90% {\n",
              "      border-color: transparent;\n",
              "      border-bottom-color: var(--fill-color);\n",
              "    }\n",
              "  }\n",
              "</style>\n",
              "\n",
              "      <script>\n",
              "        async function quickchart(key) {\n",
              "          const quickchartButtonEl =\n",
              "            document.querySelector('#' + key + ' button');\n",
              "          quickchartButtonEl.disabled = true;  // To prevent multiple clicks.\n",
              "          quickchartButtonEl.classList.add('colab-df-spinner');\n",
              "          try {\n",
              "            const charts = await google.colab.kernel.invokeFunction(\n",
              "                'suggestCharts', [key], {});\n",
              "          } catch (error) {\n",
              "            console.error('Error during call to suggestCharts:', error);\n",
              "          }\n",
              "          quickchartButtonEl.classList.remove('colab-df-spinner');\n",
              "          quickchartButtonEl.classList.add('colab-df-quickchart-complete');\n",
              "        }\n",
              "        (() => {\n",
              "          let quickchartButtonEl =\n",
              "            document.querySelector('#df-9793938e-9c83-4de4-9624-d049ae5ecf49 button');\n",
              "          quickchartButtonEl.style.display =\n",
              "            google.colab.kernel.accessAllowed ? 'block' : 'none';\n",
              "        })();\n",
              "      </script>\n",
              "    </div>\n",
              "\n",
              "    </div>\n",
              "  </div>\n"
            ],
            "application/vnd.google.colaboratory.intrinsic+json": {
              "type": "dataframe",
              "variable_name": "df_numerical"
            }
          },
          "metadata": {},
          "execution_count": 4
        }
      ]
    },
    {
      "cell_type": "markdown",
      "source": [
        "Step 2: split data into training and testing sets"
      ],
      "metadata": {
        "id": "-aizf81vDEQI"
      }
    },
    {
      "cell_type": "code",
      "source": [
        "from sklearn.model_selection import train_test_split\n",
        "\n",
        "# X contains predictors\n",
        "X = df_numerical.iloc[:, 1:26]\n",
        "\n",
        "# Y contains labels (ratings)\n",
        "y = df_numerical.iloc[:, 0]\n",
        "\n",
        "# Split into training and test sets (80% train, 20% test)\n",
        "X_train, X_test, y_train, y_test = train_test_split(X, y, test_size=0.2, random_state=42)"
      ],
      "metadata": {
        "id": "nMvDehG4DH-I"
      },
      "execution_count": null,
      "outputs": []
    },
    {
      "cell_type": "code",
      "source": [
        "print(\"Shape of X:\", X.shape)\n",
        "print(\"Shape of y:\", y.shape)\n",
        "print(\"Shape of X_train:\", X_train.shape)\n",
        "print(\"Shape of X_test:\", X_test.shape)\n",
        "print(\"Shape of y_train:\", y_train.shape)\n",
        "print(\"Shape of y_test:\", y_test.shape)"
      ],
      "metadata": {
        "colab": {
          "base_uri": "https://localhost:8080/"
        },
        "collapsed": true,
        "id": "7XzA6-xuDfn4",
        "outputId": "bfa8e242-a925-436d-a5d2-893c5c65a833"
      },
      "execution_count": null,
      "outputs": [
        {
          "output_type": "stream",
          "name": "stdout",
          "text": [
            "Shape of X: (2029, 25)\n",
            "Shape of y: (2029,)\n",
            "Shape of X_train: (1623, 25)\n",
            "Shape of X_test: (406, 25)\n",
            "Shape of y_train: (1623,)\n",
            "Shape of y_test: (406,)\n"
          ]
        }
      ]
    },
    {
      "cell_type": "code",
      "source": [
        "y_test"
      ],
      "metadata": {
        "colab": {
          "base_uri": "https://localhost:8080/",
          "height": 458
        },
        "id": "Mr5r3_Wlbdvp",
        "outputId": "72260be0-dbaf-4392-d363-3eb52c7c2dfb"
      },
      "execution_count": null,
      "outputs": [
        {
          "output_type": "execute_result",
          "data": {
            "text/plain": [
              "1356    7\n",
              "984     6\n",
              "859     8\n",
              "1983    6\n",
              "1293    6\n",
              "       ..\n",
              "892     3\n",
              "416     8\n",
              "1843    5\n",
              "1553    6\n",
              "1602    5\n",
              "Name: Rating, Length: 406, dtype: int64"
            ],
            "text/html": [
              "<div>\n",
              "<style scoped>\n",
              "    .dataframe tbody tr th:only-of-type {\n",
              "        vertical-align: middle;\n",
              "    }\n",
              "\n",
              "    .dataframe tbody tr th {\n",
              "        vertical-align: top;\n",
              "    }\n",
              "\n",
              "    .dataframe thead th {\n",
              "        text-align: right;\n",
              "    }\n",
              "</style>\n",
              "<table border=\"1\" class=\"dataframe\">\n",
              "  <thead>\n",
              "    <tr style=\"text-align: right;\">\n",
              "      <th></th>\n",
              "      <th>Rating</th>\n",
              "    </tr>\n",
              "  </thead>\n",
              "  <tbody>\n",
              "    <tr>\n",
              "      <th>1356</th>\n",
              "      <td>7</td>\n",
              "    </tr>\n",
              "    <tr>\n",
              "      <th>984</th>\n",
              "      <td>6</td>\n",
              "    </tr>\n",
              "    <tr>\n",
              "      <th>859</th>\n",
              "      <td>8</td>\n",
              "    </tr>\n",
              "    <tr>\n",
              "      <th>1983</th>\n",
              "      <td>6</td>\n",
              "    </tr>\n",
              "    <tr>\n",
              "      <th>1293</th>\n",
              "      <td>6</td>\n",
              "    </tr>\n",
              "    <tr>\n",
              "      <th>...</th>\n",
              "      <td>...</td>\n",
              "    </tr>\n",
              "    <tr>\n",
              "      <th>892</th>\n",
              "      <td>3</td>\n",
              "    </tr>\n",
              "    <tr>\n",
              "      <th>416</th>\n",
              "      <td>8</td>\n",
              "    </tr>\n",
              "    <tr>\n",
              "      <th>1843</th>\n",
              "      <td>5</td>\n",
              "    </tr>\n",
              "    <tr>\n",
              "      <th>1553</th>\n",
              "      <td>6</td>\n",
              "    </tr>\n",
              "    <tr>\n",
              "      <th>1602</th>\n",
              "      <td>5</td>\n",
              "    </tr>\n",
              "  </tbody>\n",
              "</table>\n",
              "<p>406 rows × 1 columns</p>\n",
              "</div><br><label><b>dtype:</b> int64</label>"
            ]
          },
          "metadata": {},
          "execution_count": 7
        }
      ]
    },
    {
      "cell_type": "markdown",
      "source": [
        "Step 3: Lasso Fit using LassoCV"
      ],
      "metadata": {
        "id": "ClxIqfdoEJcS"
      }
    },
    {
      "cell_type": "code",
      "source": [
        "import time\n",
        "from sklearn.linear_model import LassoCV\n",
        "\n",
        "\n",
        "start = time.perf_counter()\n",
        "\n",
        "# Fit LassoCV with cross-validation (default 5-fold)\n",
        "lasso_cv = LassoCV(cv=5, max_iter=10000, random_state=42)\n",
        "lasso_cv.fit(X_train, y_train)\n",
        "\n",
        "# Print the optimal alpha found\n",
        "print(\"Optimal alpha (regularization parameter):\", lasso_cv.alpha_)\n",
        "\n",
        "coefficients = pd.Series(lasso_cv.coef_, index=X_train.columns)\n",
        "\n",
        "print(\"Lasso Coefficients with Feature Names:\")\n",
        "print(coefficients)\n",
        "\n",
        "num_nonzero_coefs = 0\n",
        "\n",
        "for coef in coefficients:\n",
        "  if coef != 0:\n",
        "    num_nonzero_coefs += 1\n",
        "\n",
        "# Make predictions on the test data\n",
        "y_pred = lasso_cv.predict(X_test)\n",
        "\n",
        "end = time.perf_counter()\n",
        "\n",
        "print(f\"Time elapsed: {end - start:.6f} seconds\")"
      ],
      "metadata": {
        "colab": {
          "base_uri": "https://localhost:8080/"
        },
        "id": "98trPO_hEJIP",
        "outputId": "e518d3eb-015b-47f6-b412-5b11a5b0c56b"
      },
      "execution_count": null,
      "outputs": [
        {
          "output_type": "stream",
          "name": "stderr",
          "text": [
            "/usr/local/lib/python3.11/dist-packages/sklearn/linear_model/_coordinate_descent.py:681: ConvergenceWarning: Objective did not converge. You might want to increase the number of iterations. Duality gap: 0.5043786661792637, tolerance: 0.19302602001539623\n",
            "  model = cd_fast.enet_coordinate_descent_gram(\n",
            "/usr/local/lib/python3.11/dist-packages/sklearn/linear_model/_coordinate_descent.py:681: ConvergenceWarning: Objective did not converge. You might want to increase the number of iterations. Duality gap: 6.318386747523846, tolerance: 0.19302602001539623\n",
            "  model = cd_fast.enet_coordinate_descent_gram(\n",
            "/usr/local/lib/python3.11/dist-packages/sklearn/linear_model/_coordinate_descent.py:681: ConvergenceWarning: Objective did not converge. You might want to increase the number of iterations. Duality gap: 20.709633974119924, tolerance: 0.19302602001539623\n",
            "  model = cd_fast.enet_coordinate_descent_gram(\n",
            "/usr/local/lib/python3.11/dist-packages/sklearn/linear_model/_coordinate_descent.py:681: ConvergenceWarning: Objective did not converge. You might want to increase the number of iterations. Duality gap: 9.362987304942862, tolerance: 0.19302602001539623\n",
            "  model = cd_fast.enet_coordinate_descent_gram(\n",
            "/usr/local/lib/python3.11/dist-packages/sklearn/linear_model/_coordinate_descent.py:681: ConvergenceWarning: Objective did not converge. You might want to increase the number of iterations. Duality gap: 26.005801602597785, tolerance: 0.19302602001539623\n",
            "  model = cd_fast.enet_coordinate_descent_gram(\n",
            "/usr/local/lib/python3.11/dist-packages/sklearn/linear_model/_coordinate_descent.py:681: ConvergenceWarning: Objective did not converge. You might want to increase the number of iterations. Duality gap: 44.70377706603972, tolerance: 0.19302602001539623\n",
            "  model = cd_fast.enet_coordinate_descent_gram(\n",
            "/usr/local/lib/python3.11/dist-packages/sklearn/linear_model/_coordinate_descent.py:681: ConvergenceWarning: Objective did not converge. You might want to increase the number of iterations. Duality gap: 63.17362801549575, tolerance: 0.19302602001539623\n",
            "  model = cd_fast.enet_coordinate_descent_gram(\n",
            "/usr/local/lib/python3.11/dist-packages/sklearn/linear_model/_coordinate_descent.py:681: ConvergenceWarning: Objective did not converge. You might want to increase the number of iterations. Duality gap: 20.609161348216276, tolerance: 0.18969622786759013\n",
            "  model = cd_fast.enet_coordinate_descent_gram(\n",
            "/usr/local/lib/python3.11/dist-packages/sklearn/linear_model/_coordinate_descent.py:681: ConvergenceWarning: Objective did not converge. You might want to increase the number of iterations. Duality gap: 63.22709318058901, tolerance: 0.18969622786759013\n",
            "  model = cd_fast.enet_coordinate_descent_gram(\n",
            "/usr/local/lib/python3.11/dist-packages/sklearn/linear_model/_coordinate_descent.py:681: ConvergenceWarning: Objective did not converge. You might want to increase the number of iterations. Duality gap: 108.87626269946895, tolerance: 0.18969622786759013\n",
            "  model = cd_fast.enet_coordinate_descent_gram(\n",
            "/usr/local/lib/python3.11/dist-packages/sklearn/linear_model/_coordinate_descent.py:681: ConvergenceWarning: Objective did not converge. You might want to increase the number of iterations. Duality gap: 151.744640343755, tolerance: 0.18969622786759013\n",
            "  model = cd_fast.enet_coordinate_descent_gram(\n",
            "/usr/local/lib/python3.11/dist-packages/sklearn/linear_model/_coordinate_descent.py:681: ConvergenceWarning: Objective did not converge. You might want to increase the number of iterations. Duality gap: 190.27741388657364, tolerance: 0.18969622786759013\n",
            "  model = cd_fast.enet_coordinate_descent_gram(\n",
            "/usr/local/lib/python3.11/dist-packages/sklearn/linear_model/_coordinate_descent.py:681: ConvergenceWarning: Objective did not converge. You might want to increase the number of iterations. Duality gap: 224.36172025495773, tolerance: 0.18969622786759013\n",
            "  model = cd_fast.enet_coordinate_descent_gram(\n",
            "/usr/local/lib/python3.11/dist-packages/sklearn/linear_model/_coordinate_descent.py:681: ConvergenceWarning: Objective did not converge. You might want to increase the number of iterations. Duality gap: 254.35949947685833, tolerance: 0.18969622786759013\n",
            "  model = cd_fast.enet_coordinate_descent_gram(\n",
            "/usr/local/lib/python3.11/dist-packages/sklearn/linear_model/_coordinate_descent.py:681: ConvergenceWarning: Objective did not converge. You might want to increase the number of iterations. Duality gap: 280.7561708217554, tolerance: 0.18969622786759013\n",
            "  model = cd_fast.enet_coordinate_descent_gram(\n",
            "/usr/local/lib/python3.11/dist-packages/sklearn/linear_model/_coordinate_descent.py:681: ConvergenceWarning: Objective did not converge. You might want to increase the number of iterations. Duality gap: 304.03237684980184, tolerance: 0.18969622786759013\n",
            "  model = cd_fast.enet_coordinate_descent_gram(\n"
          ]
        },
        {
          "output_type": "stream",
          "name": "stdout",
          "text": [
            "Optimal alpha (regularization parameter): 19.452580609048\n",
            "Lasso Coefficients with Feature Names:\n",
            "currentRatio                         -0.000000e+00\n",
            "quickRatio                           -0.000000e+00\n",
            "cashRatio                            -0.000000e+00\n",
            "daysOfSalesOutstanding               -3.473520e-06\n",
            "netProfitMargin                       0.000000e+00\n",
            "pretaxProfitMargin                    0.000000e+00\n",
            "grossProfitMargin                     0.000000e+00\n",
            "operatingProfitMargin                 0.000000e+00\n",
            "returnOnAssets                        0.000000e+00\n",
            "returnOnCapitalEmployed               0.000000e+00\n",
            "returnOnEquity                       -0.000000e+00\n",
            "assetTurnover                        -0.000000e+00\n",
            "fixedAssetTurnover                   -3.239542e-07\n",
            "debtEquityRatio                      -0.000000e+00\n",
            "debtRatio                            -0.000000e+00\n",
            "effectiveTaxRate                     -0.000000e+00\n",
            "freeCashFlowOperatingCashFlowRatio    0.000000e+00\n",
            "freeCashFlowPerShare                  1.200598e-06\n",
            "cashPerShare                         -2.031649e-07\n",
            "companyEquityMultiplier              -0.000000e+00\n",
            "ebitPerRevenue                        0.000000e+00\n",
            "enterpriseValueMultiple              -1.061618e-04\n",
            "operatingCashFlowPerShare            -8.784203e-07\n",
            "operatingCashFlowSalesRatio           0.000000e+00\n",
            "payablesTurnover                      8.915186e-05\n",
            "dtype: float64\n",
            "Time elapsed: 0.662574 seconds\n"
          ]
        }
      ]
    },
    {
      "cell_type": "code",
      "source": [
        "max(coefficients)"
      ],
      "metadata": {
        "colab": {
          "base_uri": "https://localhost:8080/"
        },
        "id": "rV62UJYtOn3k",
        "outputId": "4305bfcf-b75a-4867-db41-207026215701"
      },
      "execution_count": null,
      "outputs": [
        {
          "output_type": "execute_result",
          "data": {
            "text/plain": [
              "8.915185716129617e-05"
            ]
          },
          "metadata": {},
          "execution_count": 9
        }
      ]
    },
    {
      "cell_type": "code",
      "source": [
        "num_nonzero_coefs"
      ],
      "metadata": {
        "colab": {
          "base_uri": "https://localhost:8080/"
        },
        "id": "ieFHbxJRWSvD",
        "outputId": "15f353f4-c988-47ac-98cd-e019904359a2"
      },
      "execution_count": null,
      "outputs": [
        {
          "output_type": "execute_result",
          "data": {
            "text/plain": [
              "7"
            ]
          },
          "metadata": {},
          "execution_count": 10
        }
      ]
    },
    {
      "cell_type": "code",
      "source": [
        "len(coefficients)"
      ],
      "metadata": {
        "colab": {
          "base_uri": "https://localhost:8080/"
        },
        "id": "erl63kSbWUcU",
        "outputId": "69a9cf0b-6604-4089-fcae-df01d8104f73"
      },
      "execution_count": null,
      "outputs": [
        {
          "output_type": "execute_result",
          "data": {
            "text/plain": [
              "25"
            ]
          },
          "metadata": {},
          "execution_count": 11
        }
      ]
    },
    {
      "cell_type": "code",
      "source": [
        "from sklearn.metrics import mean_squared_error\n",
        "\n",
        "# Evaluate the model\n",
        "mse = mean_squared_error(y_test, y_pred)\n",
        "print(\"Mean Squared Error:\", mse)"
      ],
      "metadata": {
        "colab": {
          "base_uri": "https://localhost:8080/"
        },
        "id": "agxKM_vLHVNo",
        "outputId": "584c041d-e9f6-4b63-e4d2-ae706e62e72f"
      },
      "execution_count": null,
      "outputs": [
        {
          "output_type": "stream",
          "name": "stdout",
          "text": [
            "Mean Squared Error: 1.574609590833088\n"
          ]
        }
      ]
    },
    {
      "cell_type": "code",
      "source": [
        "y_pred.shape"
      ],
      "metadata": {
        "colab": {
          "base_uri": "https://localhost:8080/"
        },
        "id": "wG0aoR2KbjYN",
        "outputId": "474593ba-be3e-418b-840e-d963656b5bac"
      },
      "execution_count": null,
      "outputs": [
        {
          "output_type": "execute_result",
          "data": {
            "text/plain": [
              "(406,)"
            ]
          },
          "metadata": {},
          "execution_count": 13
        }
      ]
    },
    {
      "cell_type": "code",
      "source": [
        "from sklearn.metrics import accuracy_score\n",
        "\n",
        "y_pred_rounded = np.round(y_pred).astype(int)\n",
        "y_pred_rounded = np.clip(y_pred_rounded, 1, 10)\n",
        "\n",
        "# Now compute accuracy\n",
        "accuracy = accuracy_score(y_test, y_pred_rounded)\n",
        "print(\"Prediction Accuracy:\", accuracy)"
      ],
      "metadata": {
        "colab": {
          "base_uri": "https://localhost:8080/"
        },
        "id": "51VZ28W-bLoH",
        "outputId": "6eff2c60-4333-4001-bee3-c5ebca3a2b38"
      },
      "execution_count": null,
      "outputs": [
        {
          "output_type": "stream",
          "name": "stdout",
          "text": [
            "Prediction Accuracy: 0.33497536945812806\n"
          ]
        }
      ]
    },
    {
      "cell_type": "code",
      "source": [
        "print(\"Accuracy (All):\", float(f\"{accuracy:.3f}\")*100, \"%\")\n",
        "print(\"MSE:\", mse)\n",
        "print(f\"Time elapsed: {end - start:.6f} seconds\")"
      ],
      "metadata": {
        "colab": {
          "base_uri": "https://localhost:8080/"
        },
        "id": "9fh_NFQ_VXke",
        "outputId": "f2ac6df8-32b7-49d2-b451-936e67b4c425"
      },
      "execution_count": null,
      "outputs": [
        {
          "output_type": "stream",
          "name": "stdout",
          "text": [
            "Accuracy (All): 33.5 %\n",
            "MSE: 1.574609590833088\n",
            "Time elapsed: 0.662574 seconds\n"
          ]
        }
      ]
    },
    {
      "cell_type": "code",
      "source": [
        "import matplotlib.pyplot as plt\n",
        "from sklearn.metrics import mean_squared_error\n",
        "\n",
        "# Scatter plot of actual vs predicted ratings\n",
        "plt.scatter(y_test, y_pred, color='blue', label='Predicted vs Actual')\n",
        "plt.plot([min(y_test), max(y_test)], [min(y_test), max(y_test)], color='orange', label='Perfect Prediction Line')\n",
        "\n",
        "plt.title('Predicted vs Actual Ratings (10000 iterations, Alpha = 19.45)')\n",
        "plt.xlabel('Actual Rating')\n",
        "plt.ylabel('Predicted Rating')\n",
        "plt.legend()\n",
        "plt.show()"
      ],
      "metadata": {
        "colab": {
          "base_uri": "https://localhost:8080/",
          "height": 472
        },
        "id": "Y2FjImy-Hip6",
        "outputId": "30e42048-6505-4116-f774-9956e1269045"
      },
      "execution_count": null,
      "outputs": [
        {
          "output_type": "display_data",
          "data": {
            "text/plain": [
              "<Figure size 640x480 with 1 Axes>"
            ],
            "image/png": "[encoded data removed]"
          },
          "metadata": {}
        }
      ]
    },
    {
      "cell_type": "markdown",
      "source": [
        "Next Steps:\n",
        "- divide all predictors into aforementioned categories and run Lasso on each\n",
        "- compare results with overall\n",
        "- plot individual features with result"
      ],
      "metadata": {
        "id": "ahfWvJhcIsdz"
      }
    },
    {
      "cell_type": "code",
      "source": [
        "# Extract the 26th feature (index 25), assumed to be 'Payables Turnover'\n",
        "payables_turnover = X_test.iloc[:, 24]\n",
        "\n",
        "# Plot actual vs predicted ratings\n",
        "plt.scatter(payables_turnover, y_test, color='green', label='Actual Ratings')\n",
        "plt.scatter(payables_turnover, y_pred, color='orange', label='Predicted Ratings', alpha=0.6)\n",
        "\n",
        "plt.title('Predicted Rating vs Payables Turnover')\n",
        "plt.xlabel('Payables Turnover')\n",
        "plt.ylabel('Rating (Numerical)')\n",
        "plt.legend()\n",
        "plt.show()"
      ],
      "metadata": {
        "id": "KaEdmALdItR1",
        "colab": {
          "base_uri": "https://localhost:8080/",
          "height": 472
        },
        "outputId": "1231c9c5-9846-4cde-f3a1-0b87b094279f"
      },
      "execution_count": null,
      "outputs": [
        {
          "output_type": "display_data",
          "data": {
            "text/plain": [
              "<Figure size 640x480 with 1 Axes>"
            ],
            "image/png": "[encoded data removed]"
          },
          "metadata": {}
        }
      ]
    },
    {
      "cell_type": "code",
      "source": [
        "print(X_test.columns)"
      ],
      "metadata": {
        "colab": {
          "base_uri": "https://localhost:8080/"
        },
        "id": "7YZSqpOz_t8f",
        "outputId": "45437754-35b0-415b-865b-30848d93f00a"
      },
      "execution_count": null,
      "outputs": [
        {
          "output_type": "stream",
          "name": "stdout",
          "text": [
            "Index(['currentRatio', 'quickRatio', 'cashRatio', 'daysOfSalesOutstanding',\n",
            "       'netProfitMargin', 'pretaxProfitMargin', 'grossProfitMargin',\n",
            "       'operatingProfitMargin', 'returnOnAssets', 'returnOnCapitalEmployed',\n",
            "       'returnOnEquity', 'assetTurnover', 'fixedAssetTurnover',\n",
            "       'debtEquityRatio', 'debtRatio', 'effectiveTaxRate',\n",
            "       'freeCashFlowOperatingCashFlowRatio', 'freeCashFlowPerShare',\n",
            "       'cashPerShare', 'companyEquityMultiplier', 'ebitPerRevenue',\n",
            "       'enterpriseValueMultiple', 'operatingCashFlowPerShare',\n",
            "       'operatingCashFlowSalesRatio', 'payablesTurnover'],\n",
            "      dtype='object')\n"
          ]
        }
      ]
    },
    {
      "cell_type": "code",
      "source": [
        "times = []\n",
        "accuracies = []\n",
        "mses = []\n",
        "iterations = [10000, 20000, 30000, 40000, 50000, 60000, 70000, 80000, 90000, 100000]\n",
        "optimal_alphas = []\n",
        "non_nonzero_coefs_arr = []\n",
        "\n",
        "for max_iter in iterations:\n",
        "    start = time.perf_counter()\n",
        "\n",
        "    lasso_cv = LassoCV(cv=5, max_iter=max_iter, random_state=42)\n",
        "    lasso_cv.fit(X_train, y_train)\n",
        "\n",
        "    optimal_alphas.append(lasso_cv.alpha_)\n",
        "\n",
        "    coefficients = pd.Series(lasso_cv.coef_, index=X_train.columns)\n",
        "\n",
        "    num_nonzero_coefs = 0\n",
        "\n",
        "    for coef in coefficients:\n",
        "      if coef != 0:\n",
        "        num_nonzero_coefs += 1\n",
        "\n",
        "    non_nonzero_coefs_arr.append(num_nonzero_coefs)\n",
        "\n",
        "    # Predict\n",
        "    y_pred = lasso_cv.predict(X_test)\n",
        "\n",
        "    end = time.perf_counter()\n",
        "    times.append(end - start)\n",
        "\n",
        "    mse = mean_squared_error(y_test, y_pred)\n",
        "    mses.append(mse)\n",
        "\n",
        "    y_pred_rounded = np.round(y_pred).astype(int)\n",
        "    y_pred_rounded = np.clip(y_pred_rounded, 1, 10)\n",
        "\n",
        "    accuracy = accuracy_score(y_test, y_pred_rounded)\n",
        "    accuracies.append(accuracy)"
      ],
      "metadata": {
        "colab": {
          "base_uri": "https://localhost:8080/"
        },
        "collapsed": true,
        "id": "Y9d5kgadhY2a",
        "outputId": "684abe15-3bc4-4a1a-a260-c803e18fa131"
      },
      "execution_count": null,
      "outputs": [
        {
          "output_type": "stream",
          "name": "stderr",
          "text": [
            "/usr/local/lib/python3.11/dist-packages/sklearn/linear_model/_coordinate_descent.py:681: ConvergenceWarning: Objective did not converge. You might want to increase the number of iterations. Duality gap: 0.5043786661792637, tolerance: 0.19302602001539623\n",
            "  model = cd_fast.enet_coordinate_descent_gram(\n",
            "/usr/local/lib/python3.11/dist-packages/sklearn/linear_model/_coordinate_descent.py:681: ConvergenceWarning: Objective did not converge. You might want to increase the number of iterations. Duality gap: 6.318386747523846, tolerance: 0.19302602001539623\n",
            "  model = cd_fast.enet_coordinate_descent_gram(\n",
            "/usr/local/lib/python3.11/dist-packages/sklearn/linear_model/_coordinate_descent.py:681: ConvergenceWarning: Objective did not converge. You might want to increase the number of iterations. Duality gap: 20.709633974119924, tolerance: 0.19302602001539623\n",
            "  model = cd_fast.enet_coordinate_descent_gram(\n",
            "/usr/local/lib/python3.11/dist-packages/sklearn/linear_model/_coordinate_descent.py:681: ConvergenceWarning: Objective did not converge. You might want to increase the number of iterations. Duality gap: 9.362987304942862, tolerance: 0.19302602001539623\n",
            "  model = cd_fast.enet_coordinate_descent_gram(\n",
            "/usr/local/lib/python3.11/dist-packages/sklearn/linear_model/_coordinate_descent.py:681: ConvergenceWarning: Objective did not converge. You might want to increase the number of iterations. Duality gap: 26.005801602597785, tolerance: 0.19302602001539623\n",
            "  model = cd_fast.enet_coordinate_descent_gram(\n",
            "/usr/local/lib/python3.11/dist-packages/sklearn/linear_model/_coordinate_descent.py:681: ConvergenceWarning: Objective did not converge. You might want to increase the number of iterations. Duality gap: 44.70377706603972, tolerance: 0.19302602001539623\n",
            "  model = cd_fast.enet_coordinate_descent_gram(\n",
            "/usr/local/lib/python3.11/dist-packages/sklearn/linear_model/_coordinate_descent.py:681: ConvergenceWarning: Objective did not converge. You might want to increase the number of iterations. Duality gap: 63.17362801549575, tolerance: 0.19302602001539623\n",
            "  model = cd_fast.enet_coordinate_descent_gram(\n",
            "/usr/local/lib/python3.11/dist-packages/sklearn/linear_model/_coordinate_descent.py:681: ConvergenceWarning: Objective did not converge. You might want to increase the number of iterations. Duality gap: 20.609161348216276, tolerance: 0.18969622786759013\n",
            "  model = cd_fast.enet_coordinate_descent_gram(\n",
            "/usr/local/lib/python3.11/dist-packages/sklearn/linear_model/_coordinate_descent.py:681: ConvergenceWarning: Objective did not converge. You might want to increase the number of iterations. Duality gap: 63.22709318058901, tolerance: 0.18969622786759013\n",
            "  model = cd_fast.enet_coordinate_descent_gram(\n",
            "/usr/local/lib/python3.11/dist-packages/sklearn/linear_model/_coordinate_descent.py:681: ConvergenceWarning: Objective did not converge. You might want to increase the number of iterations. Duality gap: 108.87626269946895, tolerance: 0.18969622786759013\n",
            "  model = cd_fast.enet_coordinate_descent_gram(\n",
            "/usr/local/lib/python3.11/dist-packages/sklearn/linear_model/_coordinate_descent.py:681: ConvergenceWarning: Objective did not converge. You might want to increase the number of iterations. Duality gap: 151.744640343755, tolerance: 0.18969622786759013\n",
            "  model = cd_fast.enet_coordinate_descent_gram(\n",
            "/usr/local/lib/python3.11/dist-packages/sklearn/linear_model/_coordinate_descent.py:681: ConvergenceWarning: Objective did not converge. You might want to increase the number of iterations. Duality gap: 190.27741388657364, tolerance: 0.18969622786759013\n",
            "  model = cd_fast.enet_coordinate_descent_gram(\n",
            "/usr/local/lib/python3.11/dist-packages/sklearn/linear_model/_coordinate_descent.py:681: ConvergenceWarning: Objective did not converge. You might want to increase the number of iterations. Duality gap: 224.36172025495773, tolerance: 0.18969622786759013\n",
            "  model = cd_fast.enet_coordinate_descent_gram(\n",
            "/usr/local/lib/python3.11/dist-packages/sklearn/linear_model/_coordinate_descent.py:681: ConvergenceWarning: Objective did not converge. You might want to increase the number of iterations. Duality gap: 254.35949947685833, tolerance: 0.18969622786759013\n",
            "  model = cd_fast.enet_coordinate_descent_gram(\n",
            "/usr/local/lib/python3.11/dist-packages/sklearn/linear_model/_coordinate_descent.py:681: ConvergenceWarning: Objective did not converge. You might want to increase the number of iterations. Duality gap: 280.7561708217554, tolerance: 0.18969622786759013\n",
            "  model = cd_fast.enet_coordinate_descent_gram(\n",
            "/usr/local/lib/python3.11/dist-packages/sklearn/linear_model/_coordinate_descent.py:681: ConvergenceWarning: Objective did not converge. You might want to increase the number of iterations. Duality gap: 304.03237684980184, tolerance: 0.18969622786759013\n",
            "  model = cd_fast.enet_coordinate_descent_gram(\n"
          ]
        },
        {
          "output_type": "stream",
          "name": "stdout",
          "text": [
            "Accuracy (All): 33.5 %\n",
            "MSE: 1.574609590833088\n",
            "Time elapsed: 0.418060 seconds\n"
          ]
        },
        {
          "output_type": "stream",
          "name": "stderr",
          "text": [
            "/usr/local/lib/python3.11/dist-packages/sklearn/linear_model/_coordinate_descent.py:681: ConvergenceWarning: Objective did not converge. You might want to increase the number of iterations. Duality gap: 0.3673063371918488, tolerance: 0.19302602001539623\n",
            "  model = cd_fast.enet_coordinate_descent_gram(\n",
            "/usr/local/lib/python3.11/dist-packages/sklearn/linear_model/_coordinate_descent.py:681: ConvergenceWarning: Objective did not converge. You might want to increase the number of iterations. Duality gap: 4.273266919266916, tolerance: 0.19302602001539623\n",
            "  model = cd_fast.enet_coordinate_descent_gram(\n",
            "/usr/local/lib/python3.11/dist-packages/sklearn/linear_model/_coordinate_descent.py:681: ConvergenceWarning: Objective did not converge. You might want to increase the number of iterations. Duality gap: 6.785314117644475, tolerance: 0.19302602001539623\n",
            "  model = cd_fast.enet_coordinate_descent_gram(\n",
            "/usr/local/lib/python3.11/dist-packages/sklearn/linear_model/_coordinate_descent.py:681: ConvergenceWarning: Objective did not converge. You might want to increase the number of iterations. Duality gap: 16.61671744176533, tolerance: 0.19302602001539623\n",
            "  model = cd_fast.enet_coordinate_descent_gram(\n",
            "/usr/local/lib/python3.11/dist-packages/sklearn/linear_model/_coordinate_descent.py:681: ConvergenceWarning: Objective did not converge. You might want to increase the number of iterations. Duality gap: 25.790155474315497, tolerance: 0.19302602001539623\n",
            "  model = cd_fast.enet_coordinate_descent_gram(\n",
            "/usr/local/lib/python3.11/dist-packages/sklearn/linear_model/_coordinate_descent.py:681: ConvergenceWarning: Objective did not converge. You might want to increase the number of iterations. Duality gap: 33.391058900014286, tolerance: 0.19302602001539623\n",
            "  model = cd_fast.enet_coordinate_descent_gram(\n",
            "/usr/local/lib/python3.11/dist-packages/sklearn/linear_model/_coordinate_descent.py:681: ConvergenceWarning: Objective did not converge. You might want to increase the number of iterations. Duality gap: 16.470414636915393, tolerance: 0.18969622786759013\n",
            "  model = cd_fast.enet_coordinate_descent_gram(\n",
            "/usr/local/lib/python3.11/dist-packages/sklearn/linear_model/_coordinate_descent.py:681: ConvergenceWarning: Objective did not converge. You might want to increase the number of iterations. Duality gap: 47.410468857461865, tolerance: 0.18969622786759013\n",
            "  model = cd_fast.enet_coordinate_descent_gram(\n",
            "/usr/local/lib/python3.11/dist-packages/sklearn/linear_model/_coordinate_descent.py:681: ConvergenceWarning: Objective did not converge. You might want to increase the number of iterations. Duality gap: 77.41870115804227, tolerance: 0.18969622786759013\n",
            "  model = cd_fast.enet_coordinate_descent_gram(\n",
            "/usr/local/lib/python3.11/dist-packages/sklearn/linear_model/_coordinate_descent.py:681: ConvergenceWarning: Objective did not converge. You might want to increase the number of iterations. Duality gap: 103.16353147677864, tolerance: 0.18969622786759013\n",
            "  model = cd_fast.enet_coordinate_descent_gram(\n",
            "/usr/local/lib/python3.11/dist-packages/sklearn/linear_model/_coordinate_descent.py:681: ConvergenceWarning: Objective did not converge. You might want to increase the number of iterations. Duality gap: 124.41152856891244, tolerance: 0.18969622786759013\n",
            "  model = cd_fast.enet_coordinate_descent_gram(\n",
            "/usr/local/lib/python3.11/dist-packages/sklearn/linear_model/_coordinate_descent.py:681: ConvergenceWarning: Objective did not converge. You might want to increase the number of iterations. Duality gap: 141.70731734703622, tolerance: 0.18969622786759013\n",
            "  model = cd_fast.enet_coordinate_descent_gram(\n",
            "/usr/local/lib/python3.11/dist-packages/sklearn/linear_model/_coordinate_descent.py:681: ConvergenceWarning: Objective did not converge. You might want to increase the number of iterations. Duality gap: 155.7210416439159, tolerance: 0.18969622786759013\n",
            "  model = cd_fast.enet_coordinate_descent_gram(\n",
            "/usr/local/lib/python3.11/dist-packages/sklearn/linear_model/_coordinate_descent.py:681: ConvergenceWarning: Objective did not converge. You might want to increase the number of iterations. Duality gap: 167.06516310103552, tolerance: 0.18969622786759013\n",
            "  model = cd_fast.enet_coordinate_descent_gram(\n",
            "/usr/local/lib/python3.11/dist-packages/sklearn/linear_model/_coordinate_descent.py:681: ConvergenceWarning: Objective did not converge. You might want to increase the number of iterations. Duality gap: 176.2536350254211, tolerance: 0.18969622786759013\n",
            "  model = cd_fast.enet_coordinate_descent_gram(\n"
          ]
        },
        {
          "output_type": "stream",
          "name": "stdout",
          "text": [
            "Accuracy (All): 33.5 %\n",
            "MSE: 1.574724700582327\n",
            "Time elapsed: 0.552032 seconds\n"
          ]
        },
        {
          "output_type": "stream",
          "name": "stderr",
          "text": [
            "/usr/local/lib/python3.11/dist-packages/sklearn/linear_model/_coordinate_descent.py:681: ConvergenceWarning: Objective did not converge. You might want to increase the number of iterations. Duality gap: 0.2686952192659646, tolerance: 0.19302602001539623\n",
            "  model = cd_fast.enet_coordinate_descent_gram(\n",
            "/usr/local/lib/python3.11/dist-packages/sklearn/linear_model/_coordinate_descent.py:681: ConvergenceWarning: Objective did not converge. You might want to increase the number of iterations. Duality gap: 4.89930073888695, tolerance: 0.19302602001539623\n",
            "  model = cd_fast.enet_coordinate_descent_gram(\n",
            "/usr/local/lib/python3.11/dist-packages/sklearn/linear_model/_coordinate_descent.py:681: ConvergenceWarning: Objective did not converge. You might want to increase the number of iterations. Duality gap: 10.615718860672814, tolerance: 0.19302602001539623\n",
            "  model = cd_fast.enet_coordinate_descent_gram(\n",
            "/usr/local/lib/python3.11/dist-packages/sklearn/linear_model/_coordinate_descent.py:681: ConvergenceWarning: Objective did not converge. You might want to increase the number of iterations. Duality gap: 14.983205011209293, tolerance: 0.19302602001539623\n",
            "  model = cd_fast.enet_coordinate_descent_gram(\n",
            "/usr/local/lib/python3.11/dist-packages/sklearn/linear_model/_coordinate_descent.py:681: ConvergenceWarning: Objective did not converge. You might want to increase the number of iterations. Duality gap: 17.96247290779411, tolerance: 0.19302602001539623\n",
            "  model = cd_fast.enet_coordinate_descent_gram(\n",
            "/usr/local/lib/python3.11/dist-packages/sklearn/linear_model/_coordinate_descent.py:681: ConvergenceWarning: Objective did not converge. You might want to increase the number of iterations. Duality gap: 13.116776984868466, tolerance: 0.18969622786759013\n",
            "  model = cd_fast.enet_coordinate_descent_gram(\n",
            "/usr/local/lib/python3.11/dist-packages/sklearn/linear_model/_coordinate_descent.py:681: ConvergenceWarning: Objective did not converge. You might want to increase the number of iterations. Duality gap: 35.36398292419722, tolerance: 0.18969622786759013\n",
            "  model = cd_fast.enet_coordinate_descent_gram(\n",
            "/usr/local/lib/python3.11/dist-packages/sklearn/linear_model/_coordinate_descent.py:681: ConvergenceWarning: Objective did not converge. You might want to increase the number of iterations. Duality gap: 54.62338100118336, tolerance: 0.18969622786759013\n",
            "  model = cd_fast.enet_coordinate_descent_gram(\n",
            "/usr/local/lib/python3.11/dist-packages/sklearn/linear_model/_coordinate_descent.py:681: ConvergenceWarning: Objective did not converge. You might want to increase the number of iterations. Duality gap: 69.4175520490603, tolerance: 0.18969622786759013\n",
            "  model = cd_fast.enet_coordinate_descent_gram(\n",
            "/usr/local/lib/python3.11/dist-packages/sklearn/linear_model/_coordinate_descent.py:681: ConvergenceWarning: Objective did not converge. You might want to increase the number of iterations. Duality gap: 80.35417385120536, tolerance: 0.18969622786759013\n",
            "  model = cd_fast.enet_coordinate_descent_gram(\n",
            "/usr/local/lib/python3.11/dist-packages/sklearn/linear_model/_coordinate_descent.py:681: ConvergenceWarning: Objective did not converge. You might want to increase the number of iterations. Duality gap: 88.31629714294536, tolerance: 0.18969622786759013\n",
            "  model = cd_fast.enet_coordinate_descent_gram(\n",
            "/usr/local/lib/python3.11/dist-packages/sklearn/linear_model/_coordinate_descent.py:681: ConvergenceWarning: Objective did not converge. You might want to increase the number of iterations. Duality gap: 94.07161076251964, tolerance: 0.18969622786759013\n",
            "  model = cd_fast.enet_coordinate_descent_gram(\n",
            "/usr/local/lib/python3.11/dist-packages/sklearn/linear_model/_coordinate_descent.py:681: ConvergenceWarning: Objective did not converge. You might want to increase the number of iterations. Duality gap: 98.21490405008467, tolerance: 0.18969622786759013\n",
            "  model = cd_fast.enet_coordinate_descent_gram(\n",
            "/usr/local/lib/python3.11/dist-packages/sklearn/linear_model/_coordinate_descent.py:681: ConvergenceWarning: Objective did not converge. You might want to increase the number of iterations. Duality gap: 101.1886898721159, tolerance: 0.18969622786759013\n",
            "  model = cd_fast.enet_coordinate_descent_gram(\n"
          ]
        },
        {
          "output_type": "stream",
          "name": "stdout",
          "text": [
            "Accuracy (All): 33.5 %\n",
            "MSE: 1.574724700582327\n",
            "Time elapsed: 0.656322 seconds\n"
          ]
        },
        {
          "output_type": "stream",
          "name": "stderr",
          "text": [
            "/usr/local/lib/python3.11/dist-packages/sklearn/linear_model/_coordinate_descent.py:681: ConvergenceWarning: Objective did not converge. You might want to increase the number of iterations. Duality gap: 0.197592652010826, tolerance: 0.19302602001539623\n",
            "  model = cd_fast.enet_coordinate_descent_gram(\n",
            "/usr/local/lib/python3.11/dist-packages/sklearn/linear_model/_coordinate_descent.py:681: ConvergenceWarning: Objective did not converge. You might want to increase the number of iterations. Duality gap: 3.527860529123245, tolerance: 0.19302602001539623\n",
            "  model = cd_fast.enet_coordinate_descent_gram(\n",
            "/usr/local/lib/python3.11/dist-packages/sklearn/linear_model/_coordinate_descent.py:681: ConvergenceWarning: Objective did not converge. You might want to increase the number of iterations. Duality gap: 6.8071647976116765, tolerance: 0.19302602001539623\n",
            "  model = cd_fast.enet_coordinate_descent_gram(\n",
            "/usr/local/lib/python3.11/dist-packages/sklearn/linear_model/_coordinate_descent.py:681: ConvergenceWarning: Objective did not converge. You might want to increase the number of iterations. Duality gap: 8.843375230681886, tolerance: 0.19302602001539623\n",
            "  model = cd_fast.enet_coordinate_descent_gram(\n",
            "/usr/local/lib/python3.11/dist-packages/sklearn/linear_model/_coordinate_descent.py:681: ConvergenceWarning: Objective did not converge. You might want to increase the number of iterations. Duality gap: 9.977426096624868, tolerance: 0.19302602001539623\n",
            "  model = cd_fast.enet_coordinate_descent_gram(\n",
            "/usr/local/lib/python3.11/dist-packages/sklearn/linear_model/_coordinate_descent.py:681: ConvergenceWarning: Objective did not converge. You might want to increase the number of iterations. Duality gap: 10.4139542010671, tolerance: 0.18969622786759013\n",
            "  model = cd_fast.enet_coordinate_descent_gram(\n",
            "/usr/local/lib/python3.11/dist-packages/sklearn/linear_model/_coordinate_descent.py:681: ConvergenceWarning: Objective did not converge. You might want to increase the number of iterations. Duality gap: 26.290846068724022, tolerance: 0.18969622786759013\n",
            "  model = cd_fast.enet_coordinate_descent_gram(\n",
            "/usr/local/lib/python3.11/dist-packages/sklearn/linear_model/_coordinate_descent.py:681: ConvergenceWarning: Objective did not converge. You might want to increase the number of iterations. Duality gap: 38.43025455520183, tolerance: 0.18969622786759013\n",
            "  model = cd_fast.enet_coordinate_descent_gram(\n",
            "/usr/local/lib/python3.11/dist-packages/sklearn/linear_model/_coordinate_descent.py:681: ConvergenceWarning: Objective did not converge. You might want to increase the number of iterations. Duality gap: 46.66752152564186, tolerance: 0.18969622786759013\n",
            "  model = cd_fast.enet_coordinate_descent_gram(\n",
            "/usr/local/lib/python3.11/dist-packages/sklearn/linear_model/_coordinate_descent.py:681: ConvergenceWarning: Objective did not converge. You might want to increase the number of iterations. Duality gap: 52.03995086949453, tolerance: 0.18969622786759013\n",
            "  model = cd_fast.enet_coordinate_descent_gram(\n",
            "/usr/local/lib/python3.11/dist-packages/sklearn/linear_model/_coordinate_descent.py:681: ConvergenceWarning: Objective did not converge. You might want to increase the number of iterations. Duality gap: 55.48266260225864, tolerance: 0.18969622786759013\n",
            "  model = cd_fast.enet_coordinate_descent_gram(\n",
            "/usr/local/lib/python3.11/dist-packages/sklearn/linear_model/_coordinate_descent.py:681: ConvergenceWarning: Objective did not converge. You might want to increase the number of iterations. Duality gap: 57.666058841352196, tolerance: 0.18969622786759013\n",
            "  model = cd_fast.enet_coordinate_descent_gram(\n",
            "/usr/local/lib/python3.11/dist-packages/sklearn/linear_model/_coordinate_descent.py:681: ConvergenceWarning: Objective did not converge. You might want to increase the number of iterations. Duality gap: 59.03908892061531, tolerance: 0.18969622786759013\n",
            "  model = cd_fast.enet_coordinate_descent_gram(\n",
            "/usr/local/lib/python3.11/dist-packages/sklearn/linear_model/_coordinate_descent.py:681: ConvergenceWarning: Objective did not converge. You might want to increase the number of iterations. Duality gap: 59.894295241659165, tolerance: 0.18969622786759013\n",
            "  model = cd_fast.enet_coordinate_descent_gram(\n"
          ]
        },
        {
          "output_type": "stream",
          "name": "stdout",
          "text": [
            "Accuracy (All): 33.5 %\n",
            "MSE: 1.574724700582327\n",
            "Time elapsed: 0.753805 seconds\n"
          ]
        },
        {
          "output_type": "stream",
          "name": "stderr",
          "text": [
            "/usr/local/lib/python3.11/dist-packages/sklearn/linear_model/_coordinate_descent.py:681: ConvergenceWarning: Objective did not converge. You might want to increase the number of iterations. Duality gap: 2.5356272819308288, tolerance: 0.19302602001539623\n",
            "  model = cd_fast.enet_coordinate_descent_gram(\n",
            "/usr/local/lib/python3.11/dist-packages/sklearn/linear_model/_coordinate_descent.py:681: ConvergenceWarning: Objective did not converge. You might want to increase the number of iterations. Duality gap: 4.39369790915589, tolerance: 0.19302602001539623\n",
            "  model = cd_fast.enet_coordinate_descent_gram(\n",
            "/usr/local/lib/python3.11/dist-packages/sklearn/linear_model/_coordinate_descent.py:681: ConvergenceWarning: Objective did not converge. You might want to increase the number of iterations. Duality gap: 5.327910428742143, tolerance: 0.19302602001539623\n",
            "  model = cd_fast.enet_coordinate_descent_gram(\n",
            "/usr/local/lib/python3.11/dist-packages/sklearn/linear_model/_coordinate_descent.py:681: ConvergenceWarning: Objective did not converge. You might want to increase the number of iterations. Duality gap: 5.750597223651994, tolerance: 0.19302602001539623\n",
            "  model = cd_fast.enet_coordinate_descent_gram(\n",
            "/usr/local/lib/python3.11/dist-packages/sklearn/linear_model/_coordinate_descent.py:681: ConvergenceWarning: Objective did not converge. You might want to increase the number of iterations. Duality gap: 8.246136611832526, tolerance: 0.18969622786759013\n",
            "  model = cd_fast.enet_coordinate_descent_gram(\n",
            "/usr/local/lib/python3.11/dist-packages/sklearn/linear_model/_coordinate_descent.py:681: ConvergenceWarning: Objective did not converge. You might want to increase the number of iterations. Duality gap: 19.513180520533297, tolerance: 0.18969622786759013\n",
            "  model = cd_fast.enet_coordinate_descent_gram(\n",
            "/usr/local/lib/python3.11/dist-packages/sklearn/linear_model/_coordinate_descent.py:681: ConvergenceWarning: Objective did not converge. You might want to increase the number of iterations. Duality gap: 27.065879572671747, tolerance: 0.18969622786759013\n",
            "  model = cd_fast.enet_coordinate_descent_gram(\n",
            "/usr/local/lib/python3.11/dist-packages/sklearn/linear_model/_coordinate_descent.py:681: ConvergenceWarning: Objective did not converge. You might want to increase the number of iterations. Duality gap: 31.55577975845881, tolerance: 0.18969622786759013\n",
            "  model = cd_fast.enet_coordinate_descent_gram(\n",
            "/usr/local/lib/python3.11/dist-packages/sklearn/linear_model/_coordinate_descent.py:681: ConvergenceWarning: Objective did not converge. You might want to increase the number of iterations. Duality gap: 34.11828847681522, tolerance: 0.18969622786759013\n",
            "  model = cd_fast.enet_coordinate_descent_gram(\n",
            "/usr/local/lib/python3.11/dist-packages/sklearn/linear_model/_coordinate_descent.py:681: ConvergenceWarning: Objective did not converge. You might want to increase the number of iterations. Duality gap: 35.55180302515214, tolerance: 0.18969622786759013\n",
            "  model = cd_fast.enet_coordinate_descent_gram(\n",
            "/usr/local/lib/python3.11/dist-packages/sklearn/linear_model/_coordinate_descent.py:681: ConvergenceWarning: Objective did not converge. You might want to increase the number of iterations. Duality gap: 36.34161575243547, tolerance: 0.18969622786759013\n",
            "  model = cd_fast.enet_coordinate_descent_gram(\n",
            "/usr/local/lib/python3.11/dist-packages/sklearn/linear_model/_coordinate_descent.py:681: ConvergenceWarning: Objective did not converge. You might want to increase the number of iterations. Duality gap: 36.768680255385334, tolerance: 0.18969622786759013\n",
            "  model = cd_fast.enet_coordinate_descent_gram(\n",
            "/usr/local/lib/python3.11/dist-packages/sklearn/linear_model/_coordinate_descent.py:681: ConvergenceWarning: Objective did not converge. You might want to increase the number of iterations. Duality gap: 36.992386730034696, tolerance: 0.18969622786759013\n",
            "  model = cd_fast.enet_coordinate_descent_gram(\n"
          ]
        },
        {
          "output_type": "stream",
          "name": "stdout",
          "text": [
            "Accuracy (All): 33.5 %\n",
            "MSE: 1.574724700582327\n",
            "Time elapsed: 0.834082 seconds\n"
          ]
        },
        {
          "output_type": "stream",
          "name": "stderr",
          "text": [
            "/usr/local/lib/python3.11/dist-packages/sklearn/linear_model/_coordinate_descent.py:681: ConvergenceWarning: Objective did not converge. You might want to increase the number of iterations. Duality gap: 1.820633127919109, tolerance: 0.19302602001539623\n",
            "  model = cd_fast.enet_coordinate_descent_gram(\n",
            "/usr/local/lib/python3.11/dist-packages/sklearn/linear_model/_coordinate_descent.py:681: ConvergenceWarning: Objective did not converge. You might want to increase the number of iterations. Duality gap: 2.8602192711982752, tolerance: 0.19302602001539623\n",
            "  model = cd_fast.enet_coordinate_descent_gram(\n",
            "/usr/local/lib/python3.11/dist-packages/sklearn/linear_model/_coordinate_descent.py:681: ConvergenceWarning: Objective did not converge. You might want to increase the number of iterations. Duality gap: 3.282487065349187, tolerance: 0.19302602001539623\n",
            "  model = cd_fast.enet_coordinate_descent_gram(\n",
            "/usr/local/lib/python3.11/dist-packages/sklearn/linear_model/_coordinate_descent.py:681: ConvergenceWarning: Objective did not converge. You might want to increase the number of iterations. Duality gap: 3.436317948327087, tolerance: 0.19302602001539623\n",
            "  model = cd_fast.enet_coordinate_descent_gram(\n",
            "/usr/local/lib/python3.11/dist-packages/sklearn/linear_model/_coordinate_descent.py:681: ConvergenceWarning: Objective did not converge. You might want to increase the number of iterations. Duality gap: 6.514856208011679, tolerance: 0.18969622786759013\n",
            "  model = cd_fast.enet_coordinate_descent_gram(\n",
            "/usr/local/lib/python3.11/dist-packages/sklearn/linear_model/_coordinate_descent.py:681: ConvergenceWarning: Objective did not converge. You might want to increase the number of iterations. Duality gap: 14.47892784633541, tolerance: 0.18969622786759013\n",
            "  model = cd_fast.enet_coordinate_descent_gram(\n",
            "/usr/local/lib/python3.11/dist-packages/sklearn/linear_model/_coordinate_descent.py:681: ConvergenceWarning: Objective did not converge. You might want to increase the number of iterations. Duality gap: 19.136769960040965, tolerance: 0.18969622786759013\n",
            "  model = cd_fast.enet_coordinate_descent_gram(\n",
            "/usr/local/lib/python3.11/dist-packages/sklearn/linear_model/_coordinate_descent.py:681: ConvergenceWarning: Objective did not converge. You might want to increase the number of iterations. Duality gap: 21.55186664052144, tolerance: 0.18969622786759013\n",
            "  model = cd_fast.enet_coordinate_descent_gram(\n",
            "/usr/local/lib/python3.11/dist-packages/sklearn/linear_model/_coordinate_descent.py:681: ConvergenceWarning: Objective did not converge. You might want to increase the number of iterations. Duality gap: 22.75340231936434, tolerance: 0.18969622786759013\n",
            "  model = cd_fast.enet_coordinate_descent_gram(\n",
            "/usr/local/lib/python3.11/dist-packages/sklearn/linear_model/_coordinate_descent.py:681: ConvergenceWarning: Objective did not converge. You might want to increase the number of iterations. Duality gap: 23.337285137822164, tolerance: 0.18969622786759013\n",
            "  model = cd_fast.enet_coordinate_descent_gram(\n",
            "/usr/local/lib/python3.11/dist-packages/sklearn/linear_model/_coordinate_descent.py:681: ConvergenceWarning: Objective did not converge. You might want to increase the number of iterations. Duality gap: 23.61351607147708, tolerance: 0.18969622786759013\n",
            "  model = cd_fast.enet_coordinate_descent_gram(\n",
            "/usr/local/lib/python3.11/dist-packages/sklearn/linear_model/_coordinate_descent.py:681: ConvergenceWarning: Objective did not converge. You might want to increase the number of iterations. Duality gap: 23.73757232320122, tolerance: 0.18969622786759013\n",
            "  model = cd_fast.enet_coordinate_descent_gram(\n",
            "/usr/local/lib/python3.11/dist-packages/sklearn/linear_model/_coordinate_descent.py:681: ConvergenceWarning: Objective did not converge. You might want to increase the number of iterations. Duality gap: 23.786366547575653, tolerance: 0.18969622786759013\n",
            "  model = cd_fast.enet_coordinate_descent_gram(\n"
          ]
        },
        {
          "output_type": "stream",
          "name": "stdout",
          "text": [
            "Accuracy (All): 33.5 %\n",
            "MSE: 1.574724700582327\n",
            "Time elapsed: 0.957340 seconds\n"
          ]
        },
        {
          "output_type": "stream",
          "name": "stderr",
          "text": [
            "/usr/local/lib/python3.11/dist-packages/sklearn/linear_model/_coordinate_descent.py:681: ConvergenceWarning: Objective did not converge. You might want to increase the number of iterations. Duality gap: 1.3070002965780532, tolerance: 0.19302602001539623\n",
            "  model = cd_fast.enet_coordinate_descent_gram(\n",
            "/usr/local/lib/python3.11/dist-packages/sklearn/linear_model/_coordinate_descent.py:681: ConvergenceWarning: Objective did not converge. You might want to increase the number of iterations. Duality gap: 1.8803345849769357, tolerance: 0.19302602001539623\n",
            "  model = cd_fast.enet_coordinate_descent_gram(\n",
            "/usr/local/lib/python3.11/dist-packages/sklearn/linear_model/_coordinate_descent.py:681: ConvergenceWarning: Objective did not converge. You might want to increase the number of iterations. Duality gap: 2.067822737271854, tolerance: 0.19302602001539623\n",
            "  model = cd_fast.enet_coordinate_descent_gram(\n",
            "/usr/local/lib/python3.11/dist-packages/sklearn/linear_model/_coordinate_descent.py:681: ConvergenceWarning: Objective did not converge. You might want to increase the number of iterations. Duality gap: 2.1214652675189427, tolerance: 0.19302602001539623\n",
            "  model = cd_fast.enet_coordinate_descent_gram(\n",
            "/usr/local/lib/python3.11/dist-packages/sklearn/linear_model/_coordinate_descent.py:681: ConvergenceWarning: Objective did not converge. You might want to increase the number of iterations. Duality gap: 5.137414265278949, tolerance: 0.18969622786759013\n",
            "  model = cd_fast.enet_coordinate_descent_gram(\n",
            "/usr/local/lib/python3.11/dist-packages/sklearn/linear_model/_coordinate_descent.py:681: ConvergenceWarning: Objective did not converge. You might want to increase the number of iterations. Duality gap: 10.752796871413011, tolerance: 0.18969622786759013\n",
            "  model = cd_fast.enet_coordinate_descent_gram(\n",
            "/usr/local/lib/python3.11/dist-packages/sklearn/linear_model/_coordinate_descent.py:681: ConvergenceWarning: Objective did not converge. You might want to increase the number of iterations. Duality gap: 13.609987489754985, tolerance: 0.18969622786759013\n",
            "  model = cd_fast.enet_coordinate_descent_gram(\n",
            "/usr/local/lib/python3.11/dist-packages/sklearn/linear_model/_coordinate_descent.py:681: ConvergenceWarning: Objective did not converge. You might want to increase the number of iterations. Duality gap: 14.89980293826693, tolerance: 0.18969622786759013\n",
            "  model = cd_fast.enet_coordinate_descent_gram(\n",
            "/usr/local/lib/python3.11/dist-packages/sklearn/linear_model/_coordinate_descent.py:681: ConvergenceWarning: Objective did not converge. You might want to increase the number of iterations. Duality gap: 15.458386503565862, tolerance: 0.18969622786759013\n",
            "  model = cd_fast.enet_coordinate_descent_gram(\n",
            "/usr/local/lib/python3.11/dist-packages/sklearn/linear_model/_coordinate_descent.py:681: ConvergenceWarning: Objective did not converge. You might want to increase the number of iterations. Duality gap: 15.692907188765503, tolerance: 0.18969622786759013\n",
            "  model = cd_fast.enet_coordinate_descent_gram(\n",
            "/usr/local/lib/python3.11/dist-packages/sklearn/linear_model/_coordinate_descent.py:681: ConvergenceWarning: Objective did not converge. You might want to increase the number of iterations. Duality gap: 15.78578395898603, tolerance: 0.18969622786759013\n",
            "  model = cd_fast.enet_coordinate_descent_gram(\n",
            "/usr/local/lib/python3.11/dist-packages/sklearn/linear_model/_coordinate_descent.py:681: ConvergenceWarning: Objective did not converge. You might want to increase the number of iterations. Duality gap: 15.816608799840878, tolerance: 0.18969622786759013\n",
            "  model = cd_fast.enet_coordinate_descent_gram(\n",
            "/usr/local/lib/python3.11/dist-packages/sklearn/linear_model/_coordinate_descent.py:681: ConvergenceWarning: Objective did not converge. You might want to increase the number of iterations. Duality gap: 15.81988629074226, tolerance: 0.18969622786759013\n",
            "  model = cd_fast.enet_coordinate_descent_gram(\n"
          ]
        },
        {
          "output_type": "stream",
          "name": "stdout",
          "text": [
            "Accuracy (All): 33.5 %\n",
            "MSE: 1.574724700582327\n",
            "Time elapsed: 1.045561 seconds\n"
          ]
        },
        {
          "output_type": "stream",
          "name": "stderr",
          "text": [
            "/usr/local/lib/python3.11/dist-packages/sklearn/linear_model/_coordinate_descent.py:681: ConvergenceWarning: Objective did not converge. You might want to increase the number of iterations. Duality gap: 0.9388346877042295, tolerance: 0.19302602001539623\n",
            "  model = cd_fast.enet_coordinate_descent_gram(\n",
            "/usr/local/lib/python3.11/dist-packages/sklearn/linear_model/_coordinate_descent.py:681: ConvergenceWarning: Objective did not converge. You might want to increase the number of iterations. Duality gap: 1.249331812375658, tolerance: 0.19302602001539623\n",
            "  model = cd_fast.enet_coordinate_descent_gram(\n",
            "/usr/local/lib/python3.11/dist-packages/sklearn/linear_model/_coordinate_descent.py:681: ConvergenceWarning: Objective did not converge. You might want to increase the number of iterations. Duality gap: 1.330404882283574, tolerance: 0.19302602001539623\n",
            "  model = cd_fast.enet_coordinate_descent_gram(\n",
            "/usr/local/lib/python3.11/dist-packages/sklearn/linear_model/_coordinate_descent.py:681: ConvergenceWarning: Objective did not converge. You might want to increase the number of iterations. Duality gap: 1.347324423177497, tolerance: 0.19302602001539623\n",
            "  model = cd_fast.enet_coordinate_descent_gram(\n",
            "/usr/local/lib/python3.11/dist-packages/sklearn/linear_model/_coordinate_descent.py:681: ConvergenceWarning: Objective did not converge. You might want to increase the number of iterations. Duality gap: 4.045098448395493, tolerance: 0.18969622786759013\n",
            "  model = cd_fast.enet_coordinate_descent_gram(\n",
            "/usr/local/lib/python3.11/dist-packages/sklearn/linear_model/_coordinate_descent.py:681: ConvergenceWarning: Objective did not converge. You might want to increase the number of iterations. Duality gap: 7.999690402731858, tolerance: 0.18969622786759013\n",
            "  model = cd_fast.enet_coordinate_descent_gram(\n",
            "/usr/local/lib/python3.11/dist-packages/sklearn/linear_model/_coordinate_descent.py:681: ConvergenceWarning: Objective did not converge. You might want to increase the number of iterations. Duality gap: 9.747853527742109, tolerance: 0.18969622786759013\n",
            "  model = cd_fast.enet_coordinate_descent_gram(\n",
            "/usr/local/lib/python3.11/dist-packages/sklearn/linear_model/_coordinate_descent.py:681: ConvergenceWarning: Objective did not converge. You might want to increase the number of iterations. Duality gap: 10.435004973117202, tolerance: 0.18969622786759013\n",
            "  model = cd_fast.enet_coordinate_descent_gram(\n",
            "/usr/local/lib/python3.11/dist-packages/sklearn/linear_model/_coordinate_descent.py:681: ConvergenceWarning: Objective did not converge. You might want to increase the number of iterations. Duality gap: 10.694008021876925, tolerance: 0.18969622786759013\n",
            "  model = cd_fast.enet_coordinate_descent_gram(\n",
            "/usr/local/lib/python3.11/dist-packages/sklearn/linear_model/_coordinate_descent.py:681: ConvergenceWarning: Objective did not converge. You might want to increase the number of iterations. Duality gap: 10.787051656107678, tolerance: 0.18969622786759013\n",
            "  model = cd_fast.enet_coordinate_descent_gram(\n",
            "/usr/local/lib/python3.11/dist-packages/sklearn/linear_model/_coordinate_descent.py:681: ConvergenceWarning: Objective did not converge. You might want to increase the number of iterations. Duality gap: 10.815852891392296, tolerance: 0.18969622786759013\n",
            "  model = cd_fast.enet_coordinate_descent_gram(\n",
            "/usr/local/lib/python3.11/dist-packages/sklearn/linear_model/_coordinate_descent.py:681: ConvergenceWarning: Objective did not converge. You might want to increase the number of iterations. Duality gap: 10.819228620586955, tolerance: 0.18969622786759013\n",
            "  model = cd_fast.enet_coordinate_descent_gram(\n",
            "/usr/local/lib/python3.11/dist-packages/sklearn/linear_model/_coordinate_descent.py:681: ConvergenceWarning: Objective did not converge. You might want to increase the number of iterations. Duality gap: 10.81205221645314, tolerance: 0.18969622786759013\n",
            "  model = cd_fast.enet_coordinate_descent_gram(\n"
          ]
        },
        {
          "output_type": "stream",
          "name": "stdout",
          "text": [
            "Accuracy (All): 33.5 %\n",
            "MSE: 1.574724700582327\n",
            "Time elapsed: 1.517817 seconds\n"
          ]
        },
        {
          "output_type": "stream",
          "name": "stderr",
          "text": [
            "/usr/local/lib/python3.11/dist-packages/sklearn/linear_model/_coordinate_descent.py:681: ConvergenceWarning: Objective did not converge. You might want to increase the number of iterations. Duality gap: 0.6753063458950237, tolerance: 0.19302602001539623\n",
            "  model = cd_fast.enet_coordinate_descent_gram(\n",
            "/usr/local/lib/python3.11/dist-packages/sklearn/linear_model/_coordinate_descent.py:681: ConvergenceWarning: Objective did not converge. You might want to increase the number of iterations. Duality gap: 0.8392895555323321, tolerance: 0.19302602001539623\n",
            "  model = cd_fast.enet_coordinate_descent_gram(\n",
            "/usr/local/lib/python3.11/dist-packages/sklearn/linear_model/_coordinate_descent.py:681: ConvergenceWarning: Objective did not converge. You might want to increase the number of iterations. Duality gap: 0.8727858717795698, tolerance: 0.19302602001539623\n",
            "  model = cd_fast.enet_coordinate_descent_gram(\n",
            "/usr/local/lib/python3.11/dist-packages/sklearn/linear_model/_coordinate_descent.py:681: ConvergenceWarning: Objective did not converge. You might want to increase the number of iterations. Duality gap: 0.8766340256731837, tolerance: 0.19302602001539623\n",
            "  model = cd_fast.enet_coordinate_descent_gram(\n",
            "/usr/local/lib/python3.11/dist-packages/sklearn/linear_model/_coordinate_descent.py:681: ConvergenceWarning: Objective did not converge. You might want to increase the number of iterations. Duality gap: 3.1813511618918255, tolerance: 0.18969622786759013\n",
            "  model = cd_fast.enet_coordinate_descent_gram(\n",
            "/usr/local/lib/python3.11/dist-packages/sklearn/linear_model/_coordinate_descent.py:681: ConvergenceWarning: Objective did not converge. You might want to increase the number of iterations. Duality gap: 5.966140098089227, tolerance: 0.18969622786759013\n",
            "  model = cd_fast.enet_coordinate_descent_gram(\n",
            "/usr/local/lib/python3.11/dist-packages/sklearn/linear_model/_coordinate_descent.py:681: ConvergenceWarning: Objective did not converge. You might want to increase the number of iterations. Duality gap: 7.035478614844806, tolerance: 0.18969622786759013\n",
            "  model = cd_fast.enet_coordinate_descent_gram(\n",
            "/usr/local/lib/python3.11/dist-packages/sklearn/linear_model/_coordinate_descent.py:681: ConvergenceWarning: Objective did not converge. You might want to increase the number of iterations. Duality gap: 7.402054924173854, tolerance: 0.18969622786759013\n",
            "  model = cd_fast.enet_coordinate_descent_gram(\n",
            "/usr/local/lib/python3.11/dist-packages/sklearn/linear_model/_coordinate_descent.py:681: ConvergenceWarning: Objective did not converge. You might want to increase the number of iterations. Duality gap: 7.522389343612076, tolerance: 0.18969622786759013\n",
            "  model = cd_fast.enet_coordinate_descent_gram(\n",
            "/usr/local/lib/python3.11/dist-packages/sklearn/linear_model/_coordinate_descent.py:681: ConvergenceWarning: Objective did not converge. You might want to increase the number of iterations. Duality gap: 7.5586455238822055, tolerance: 0.18969622786759013\n",
            "  model = cd_fast.enet_coordinate_descent_gram(\n",
            "/usr/local/lib/python3.11/dist-packages/sklearn/linear_model/_coordinate_descent.py:681: ConvergenceWarning: Objective did not converge. You might want to increase the number of iterations. Duality gap: 7.565586207221031, tolerance: 0.18969622786759013\n",
            "  model = cd_fast.enet_coordinate_descent_gram(\n",
            "/usr/local/lib/python3.11/dist-packages/sklearn/linear_model/_coordinate_descent.py:681: ConvergenceWarning: Objective did not converge. You might want to increase the number of iterations. Duality gap: 7.561618257984264, tolerance: 0.18969622786759013\n",
            "  model = cd_fast.enet_coordinate_descent_gram(\n",
            "/usr/local/lib/python3.11/dist-packages/sklearn/linear_model/_coordinate_descent.py:681: ConvergenceWarning: Objective did not converge. You might want to increase the number of iterations. Duality gap: 7.553078451271631, tolerance: 0.18969622786759013\n",
            "  model = cd_fast.enet_coordinate_descent_gram(\n"
          ]
        },
        {
          "output_type": "stream",
          "name": "stdout",
          "text": [
            "Accuracy (All): 33.5 %\n",
            "MSE: 1.574724700582327\n",
            "Time elapsed: 2.151892 seconds\n"
          ]
        },
        {
          "output_type": "stream",
          "name": "stderr",
          "text": [
            "/usr/local/lib/python3.11/dist-packages/sklearn/linear_model/_coordinate_descent.py:681: ConvergenceWarning: Objective did not converge. You might want to increase the number of iterations. Duality gap: 0.48679397097475885, tolerance: 0.19302602001539623\n",
            "  model = cd_fast.enet_coordinate_descent_gram(\n",
            "/usr/local/lib/python3.11/dist-packages/sklearn/linear_model/_coordinate_descent.py:681: ConvergenceWarning: Objective did not converge. You might want to increase the number of iterations. Duality gap: 0.5701897497822301, tolerance: 0.19302602001539623\n",
            "  model = cd_fast.enet_coordinate_descent_gram(\n",
            "/usr/local/lib/python3.11/dist-packages/sklearn/linear_model/_coordinate_descent.py:681: ConvergenceWarning: Objective did not converge. You might want to increase the number of iterations. Duality gap: 0.5828269659809848, tolerance: 0.19302602001539623\n",
            "  model = cd_fast.enet_coordinate_descent_gram(\n",
            "/usr/local/lib/python3.11/dist-packages/sklearn/linear_model/_coordinate_descent.py:681: ConvergenceWarning: Objective did not converge. You might want to increase the number of iterations. Duality gap: 0.5823113856390592, tolerance: 0.19302602001539623\n",
            "  model = cd_fast.enet_coordinate_descent_gram(\n",
            "/usr/local/lib/python3.11/dist-packages/sklearn/linear_model/_coordinate_descent.py:681: ConvergenceWarning: Objective did not converge. You might want to increase the number of iterations. Duality gap: 2.5000003845493666, tolerance: 0.18969622786759013\n",
            "  model = cd_fast.enet_coordinate_descent_gram(\n",
            "/usr/local/lib/python3.11/dist-packages/sklearn/linear_model/_coordinate_descent.py:681: ConvergenceWarning: Objective did not converge. You might want to increase the number of iterations. Duality gap: 4.462831046704196, tolerance: 0.18969622786759013\n",
            "  model = cd_fast.enet_coordinate_descent_gram(\n",
            "/usr/local/lib/python3.11/dist-packages/sklearn/linear_model/_coordinate_descent.py:681: ConvergenceWarning: Objective did not converge. You might want to increase the number of iterations. Duality gap: 5.118054097342338, tolerance: 0.18969622786759013\n",
            "  model = cd_fast.enet_coordinate_descent_gram(\n",
            "/usr/local/lib/python3.11/dist-packages/sklearn/linear_model/_coordinate_descent.py:681: ConvergenceWarning: Objective did not converge. You might want to increase the number of iterations. Duality gap: 5.3145551884044835, tolerance: 0.18969622786759013\n",
            "  model = cd_fast.enet_coordinate_descent_gram(\n",
            "/usr/local/lib/python3.11/dist-packages/sklearn/linear_model/_coordinate_descent.py:681: ConvergenceWarning: Objective did not converge. You might want to increase the number of iterations. Duality gap: 5.370827056989356, tolerance: 0.18969622786759013\n",
            "  model = cd_fast.enet_coordinate_descent_gram(\n",
            "/usr/local/lib/python3.11/dist-packages/sklearn/linear_model/_coordinate_descent.py:681: ConvergenceWarning: Objective did not converge. You might want to increase the number of iterations. Duality gap: 5.384454595232, tolerance: 0.18969622786759013\n",
            "  model = cd_fast.enet_coordinate_descent_gram(\n",
            "/usr/local/lib/python3.11/dist-packages/sklearn/linear_model/_coordinate_descent.py:681: ConvergenceWarning: Objective did not converge. You might want to increase the number of iterations. Duality gap: 5.3842760907946285, tolerance: 0.18969622786759013\n",
            "  model = cd_fast.enet_coordinate_descent_gram(\n"
          ]
        },
        {
          "output_type": "stream",
          "name": "stdout",
          "text": [
            "Accuracy (All): 33.5 %\n",
            "MSE: 1.574724700582327\n",
            "Time elapsed: 1.328970 seconds\n"
          ]
        },
        {
          "output_type": "stream",
          "name": "stderr",
          "text": [
            "/usr/local/lib/python3.11/dist-packages/sklearn/linear_model/_coordinate_descent.py:681: ConvergenceWarning: Objective did not converge. You might want to increase the number of iterations. Duality gap: 5.378925695983753, tolerance: 0.18969622786759013\n",
            "  model = cd_fast.enet_coordinate_descent_gram(\n",
            "/usr/local/lib/python3.11/dist-packages/sklearn/linear_model/_coordinate_descent.py:681: ConvergenceWarning: Objective did not converge. You might want to increase the number of iterations. Duality gap: 5.371156195945105, tolerance: 0.18969622786759013\n",
            "  model = cd_fast.enet_coordinate_descent_gram(\n"
          ]
        }
      ]
    },
    {
      "cell_type": "code",
      "source": [
        "i = 0\n",
        "for max_iter in iterations:\n",
        "    print(\"Accuracy (iteration\", max_iter, \"):\", float(f\"{accuracies[i]:.3f}\")*100, \"%\")\n",
        "    print(\"MSE:\", float(f\"{mses[i]:.3f}\"))\n",
        "    print(f\"Time elapsed: {times[i]:.6f} seconds\")\n",
        "    print(\"\")\n",
        "    i += 1"
      ],
      "metadata": {
        "colab": {
          "base_uri": "https://localhost:8080/"
        },
        "id": "acMOg2UYxqp1",
        "outputId": "a9d7504d-fbe6-46b0-d6da-18263b285db2"
      },
      "execution_count": null,
      "outputs": [
        {
          "output_type": "stream",
          "name": "stdout",
          "text": [
            "Accuracy (iteration 10000 ): 33.5 %\n",
            "MSE: 1.575\n",
            "Time elapsed: 0.418060 seconds\n",
            "\n",
            "Accuracy (iteration 20000 ): 33.5 %\n",
            "MSE: 1.575\n",
            "Time elapsed: 0.552032 seconds\n",
            "\n",
            "Accuracy (iteration 30000 ): 33.5 %\n",
            "MSE: 1.575\n",
            "Time elapsed: 0.656322 seconds\n",
            "\n",
            "Accuracy (iteration 40000 ): 33.5 %\n",
            "MSE: 1.575\n",
            "Time elapsed: 0.753805 seconds\n",
            "\n",
            "Accuracy (iteration 50000 ): 33.5 %\n",
            "MSE: 1.575\n",
            "Time elapsed: 0.834082 seconds\n",
            "\n",
            "Accuracy (iteration 60000 ): 33.5 %\n",
            "MSE: 1.575\n",
            "Time elapsed: 0.957340 seconds\n",
            "\n",
            "Accuracy (iteration 70000 ): 33.5 %\n",
            "MSE: 1.575\n",
            "Time elapsed: 1.045561 seconds\n",
            "\n",
            "Accuracy (iteration 80000 ): 33.5 %\n",
            "MSE: 1.575\n",
            "Time elapsed: 1.517817 seconds\n",
            "\n",
            "Accuracy (iteration 90000 ): 33.5 %\n",
            "MSE: 1.575\n",
            "Time elapsed: 2.151892 seconds\n",
            "\n",
            "Accuracy (iteration 100000 ): 33.5 %\n",
            "MSE: 1.575\n",
            "Time elapsed: 1.328970 seconds\n",
            "\n"
          ]
        }
      ]
    },
    {
      "cell_type": "code",
      "source": [
        "plt.plot(iterations, accuracies, color='blue', label='Model Accuracy')\n",
        "plt.plot(iterations, times, color='green', label='Computation Time')\n",
        "plt.plot(iterations, mses, color='red', label='Mean Squared Error')\n",
        "plt.title(\"Metrics against Maximum Number of Iterations\")\n",
        "plt.legend(loc = \"upper left\")\n",
        "plt.xlabel(\"Maximum Number of Iterations\")\n",
        "plt.show()\n",
        "accuracies[9]\n"
      ],
      "metadata": {
        "colab": {
          "base_uri": "https://localhost:8080/",
          "height": 489
        },
        "id": "JvC9qecGhoXj",
        "outputId": "ac5317e6-028a-41ca-ac52-c3f1153a6d27"
      },
      "execution_count": null,
      "outputs": [
        {
          "output_type": "display_data",
          "data": {
            "text/plain": [
              "<Figure size 640x480 with 1 Axes>"
            ],
            "image/png": "[encoded data removed]"
          },
          "metadata": {}
        },
        {
          "output_type": "execute_result",
          "data": {
            "text/plain": [
              "0.33497536945812806"
            ]
          },
          "metadata": {},
          "execution_count": 69
        }
      ]
    },
    {
      "cell_type": "code",
      "source": [
        "plt.scatter(iterations, optimal_alphas, color='purple', label='Optimal Alpha')\n",
        "plt.show()"
      ],
      "metadata": {
        "colab": {
          "base_uri": "https://localhost:8080/",
          "height": 430
        },
        "id": "lrvoDnm_jwOT",
        "outputId": "32718b86-a484-4e63-f91e-3045b5693612"
      },
      "execution_count": null,
      "outputs": [
        {
          "output_type": "display_data",
          "data": {
            "text/plain": [
              "<Figure size 640x480 with 1 Axes>"
            ],
            "image/png": "[encoded data removed]"
          },
          "metadata": {}
        }
      ]
    },
    {
      "cell_type": "code",
      "source": [
        "optimal_alphas"
      ],
      "metadata": {
        "colab": {
          "base_uri": "https://localhost:8080/"
        },
        "id": "HMLBQyVV-8_Y",
        "outputId": "bf086d7e-fb56-41fb-accb-c0cd4150dee9"
      },
      "execution_count": null,
      "outputs": [
        {
          "output_type": "execute_result",
          "data": {
            "text/plain": [
              "[np.float64(19.452580609048),\n",
              " np.float64(20.85836457059578),\n",
              " np.float64(20.85836457059578),\n",
              " np.float64(20.85836457059578),\n",
              " np.float64(20.85836457059578),\n",
              " np.float64(20.85836457059578),\n",
              " np.float64(20.85836457059578),\n",
              " np.float64(20.85836457059578),\n",
              " np.float64(20.85836457059578),\n",
              " np.float64(20.85836457059578)]"
            ]
          },
          "metadata": {},
          "execution_count": 65
        }
      ]
    },
    {
      "cell_type": "code",
      "source": [
        "non_nonzero_coefs_arr"
      ],
      "metadata": {
        "colab": {
          "base_uri": "https://localhost:8080/"
        },
        "id": "HBJs7UFaXJui",
        "outputId": "0aa16c19-caeb-4807-82bf-48d3a4e3fd54"
      },
      "execution_count": null,
      "outputs": [
        {
          "output_type": "execute_result",
          "data": {
            "text/plain": [
              "[7, 7, 7, 7, 7, 7, 7, 7, 7, 7]"
            ]
          },
          "metadata": {},
          "execution_count": 42
        }
      ]
    },
    {
      "cell_type": "code",
      "source": [
        "times"
      ],
      "metadata": {
        "colab": {
          "base_uri": "https://localhost:8080/"
        },
        "id": "B5FAwip7wkuY",
        "outputId": "22fa9a77-06b2-43d0-f531-ee2fe6257bc2"
      },
      "execution_count": null,
      "outputs": [
        {
          "output_type": "execute_result",
          "data": {
            "text/plain": [
              "[0.43827694299943687,\n",
              " 0.5278113979984482,\n",
              " 0.6631113069997809,\n",
              " 0.7549687509999785,\n",
              " 0.8391286490004859,\n",
              " 0.9469427100011671,\n",
              " 1.7045444479990692,\n",
              " 1.6957664000001387,\n",
              " 1.2522242380000534,\n",
              " 1.3937582729995484]"
            ]
          },
          "metadata": {},
          "execution_count": 66
        }
      ]
    }
  ]
}